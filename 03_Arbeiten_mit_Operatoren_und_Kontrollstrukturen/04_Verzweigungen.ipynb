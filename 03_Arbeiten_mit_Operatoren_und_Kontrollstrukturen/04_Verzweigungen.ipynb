{
 "cells": [
  {
   "cell_type": "markdown",
   "metadata": {},
   "source": [
    "# Verzweigungen\n",
    "\n",
    "Verzweigungen sorgen dafür, dass bestimmte Codeteile nur ausgeführt werden, wenn die zuvor formulierten Bedingungen wahr sind."
   ]
  },
  {
   "cell_type": "code",
   "execution_count": null,
   "metadata": {},
   "outputs": [],
   "source": [
    "if (50 % 2 == 0):\n",
    "    # Wenn 50 modulo 2 keinen Rest ergibt, dann soll \n",
    "    # folgender print-Befehl ausgeführt werden:\n",
    "    print(\"50 ist eine gerade Zahl\")"
   ]
  },
  {
   "cell_type": "markdown",
   "metadata": {},
   "source": [
    "Grundsätzich gibt es in Python zwei boolsche Konstanten, welche \"wahr\" und \"falsch\" repräsentieren:"
   ]
  },
  {
   "cell_type": "code",
   "execution_count": null,
   "metadata": {},
   "outputs": [],
   "source": [
    "True # Wahr"
   ]
  },
  {
   "cell_type": "code",
   "execution_count": null,
   "metadata": {},
   "outputs": [],
   "source": [
    "False # Falsch"
   ]
  },
  {
   "cell_type": "markdown",
   "metadata": {},
   "source": [
    "### !!!Achtung!!!\n",
    "Ein beliebter Fehler bei der Formulierung von Bedingungen ist es, den Zuweisungsoperator \"=\" und den Vergleichsoperator \"==\" zu verwechseln. In Python wird dies als <b>Syntaxfehler</b> aufgedeckt in den meisetn anderen Programmiersprachen übersieht der Compuler dies bewusst und es kommt zu einem <b>Logikfehler</b>."
   ]
  },
  {
   "cell_type": "code",
   "execution_count": null,
   "metadata": {},
   "outputs": [],
   "source": [
    " = wird zur Wertzuweisung genutzt\n",
    "    \n",
    "a = 5  # der Variable a wird der Wert 5 gegeben\n",
    "\n",
    "\n",
    " == werden genutzt, um zu überprüfen, ob das\n",
    "    linke Element gleich dem rechten Element ist.\n",
    "    \n",
    "if (a == 5):  # es wird geprüft, ob die Variable a dem Wert 5 entspricht\n",
    "    pass"
   ]
  },
  {
   "cell_type": "markdown",
   "metadata": {},
   "source": [
    "Das allgemeines Schema eine if-elif-else- Anweisung zeigt die folgenden Zelle."
   ]
  },
  {
   "cell_type": "code",
   "execution_count": null,
   "metadata": {},
   "outputs": [],
   "source": [
    "# Schema der if - elif - else Anweisung\n",
    "if (Bedingung 1):\n",
    "    anweisungen_1\n",
    "elif (Bedingung 2):\n",
    "    anweisungen_2\n",
    "elif (Bedingung 3):\n",
    "    anweisungen_3\n",
    "...\n",
    "else:\n",
    "    anweisungen_8"
   ]
  },
  {
   "cell_type": "markdown",
   "metadata": {},
   "source": [
    "In einem konkreten Beispiel sieht diese so aus:"
   ]
  },
  {
   "cell_type": "code",
   "execution_count": null,
   "metadata": {},
   "outputs": [],
   "source": [
    "# Es wird getestet, ob eine eingegebene Zahl\n",
    "# größer, gleich, oder kleiner als 50 ist\n",
    "\n",
    "print(\"Bitte Zahl eingeben\")\n",
    "# Eingabeaufforderung für einen Integer\n",
    "zahl = int(input())\n",
    "\n",
    "if (zahl > 50):\n",
    "    # Wenn die Zahl größer als 50 ist\n",
    "    print(f\"Die Zahl {zahl} ist größer als 50\")\n",
    "elif (zahl == 50):\n",
    "    # Wenn die Zahl genau gleich 50 ist\n",
    "    print(f\"Die Zahl {zahl} ist gleich 50\")\n",
    "else:\n",
    "    # Wenn keine der vorherigen Bedingungen wahr ist,\n",
    "    # wird dieser print-Befehl ausgeführt\n",
    "    print(f\"Die Zahl {zahl} ist kleiner als 50\")"
   ]
  },
  {
   "cell_type": "markdown",
   "metadata": {},
   "source": [
    "### Aufgabe 6_1\n",
    "Im oberen Beispiel werden drei unterschiedliche Blöcke ausgeführt, je nachdem welche Bedingung wahr ist. Oben sind die Bedingungen eindeutig. Was passiert im folgenden Beispiel wenn Sie die Zahl 40 eingeben? Überlegen Sie zunächst mit Ihrem Nachbarn, bevor Sie die Zelle ausführen!"
   ]
  },
  {
   "cell_type": "code",
   "execution_count": null,
   "metadata": {},
   "outputs": [],
   "source": [
    "# Es wird getestet, ob eine eingegebene Zahl\n",
    "# größer gleich 40, ohnen Rest durch 4 teilbar oder kleiner als 40 ist\n",
    "\n",
    "print(\"Bitte Zahl eingeben\")\n",
    "# Eingabeaufforderung für einen Integer\n",
    "zahl = int(input())\n",
    "\n",
    "if (zahl >= 40):\n",
    "    # Wenn die Zahl größer oder gleich 40 ist\n",
    "    print(f\"Die Zahl {zahl} ist größer oder gleich 40\")\n",
    "elif (zahl % 4 == 0):\n",
    "    # Wenn die Zahl ohnen Rest durch 4 teilbar ist\n",
    "    print(f\"Die Zahl {zahl} ist ohen Rest durch vier teilbar\")\n",
    "else:\n",
    "    # Wenn keine der vorherigen Bedingungen wahr ist,\n",
    "    # wird dieser print-Befehl ausgeführt\n",
    "    print(f\"Die Zahl {zahl} ist kleiner als 40 und nicht durch viert teilbar\")"
   ]
  },
  {
   "cell_type": "markdown",
   "metadata": {},
   "source": [
    "## Einrücken als Strukturierungselement\n",
    "Das Einrücken ist von elementarer Bedeutung in Python, da es als Strukturierungselement fungiert. Das Einrücken soll anhand eines Beispiels, welches sich nur in einer Zeile ändert, verdeutlicht werden.\n",
    "\n",
    "### Aufgabe 6_2\n",
    "Überlegen Sie sich vor der Ausführung der beiden Zellen, was als Ergebnis herauskommt. Erläutern Sie Ihrem Nachbarn, warum dieses Ergebnis herauskommt. <br> Führen Sie die Zellen jetzt aus und überprüfen Sie Ihre Antwort!"
   ]
  },
  {
   "cell_type": "code",
   "execution_count": null,
   "metadata": {},
   "outputs": [],
   "source": [
    "zahl = 90\n",
    "if (zahl > 100):\n",
    "    zahl -= 30\n",
    "    print(zahl)\n",
    "    \n",
    "zahl += 50\n",
    "print(\"Endergebnis:\", zahl)"
   ]
  },
  {
   "cell_type": "code",
   "execution_count": null,
   "metadata": {},
   "outputs": [],
   "source": [
    "zahl = 90\n",
    "if (zahl > 100):\n",
    "    zahl -= 30\n",
    "    print(zahl)\n",
    "    zahl += 50\n",
    "    \n",
    "print(\"Endergebnis:\", zahl)"
   ]
  },
  {
   "cell_type": "markdown",
   "metadata": {},
   "source": [
    "### Aufgabe 6_3\n",
    "Sie kennen wahrscheinlich den Magic 8 Ball, der einem, wenn man nicht weiter weiß, immer die richtige Antwort liefert. Wir wollen diesen nun einmal selbst programmieren.\n",
    "Ergänzen Sie dazu folgenden Code, der eine Zufallszahl generiert:"
   ]
  },
  {
   "cell_type": "code",
   "execution_count": null,
   "metadata": {},
   "outputs": [],
   "source": [
    "import random\n",
    "\n",
    "# Zufallsgenerator initialisieren, damit die Ergebnisse pseudozufällig werden\n",
    "random.seed()\n",
    "\n",
    "# Zufallszahl generieren, wobei untere_grenze, sowie\n",
    "# obere_grenze durch Ihre eigenen Werte ersetzt werden sollen\n",
    "zufallszahl = random.randint(untere_grenze, obere_grenze)\n",
    "\n",
    "if (zufallszahl == 0):\n",
    "    print('It is decidedly so')\n",
    "elif (zufallszahl == 1):\n",
    "    print('Without a doubt')\n",
    "elif (            == 2):\n",
    "    # ihr Code\n"
   ]
  },
  {
   "cell_type": "markdown",
   "metadata": {},
   "source": [
    "### Aufgabe 6_4\n",
    "Programmieren Sie einen einfachen Taschenrechner, der:\n",
    "<ol style=\"list-style-type:lower-alpha\">\n",
    "<li>Den Benutzer auffordert zwei Zahlen einzugeben, die in zwei Variablen gespeichert werden.\n",
    "Anschließend soll abgefragt werden, welche Rechenoperation durchgeführt werden soll (Addition, Subtraktion, Division, Multiplikation) diese Operation soll so gespeichert werden, dass sie in Teil b) zur Auswahl der richtigen Operation genutzt werden kann. </li>\n",
    "<li>Die entsprechende Rechenoperation ausführt. </li>\n",
    "<li>Das Rechenergebnis auf dem Bildschirm ausgibt. </li>\n",
    "</ol>"
   ]
  },
  {
   "cell_type": "code",
   "execution_count": null,
   "metadata": {},
   "outputs": [],
   "source": []
  },
  {
   "cell_type": "markdown",
   "metadata": {},
   "source": [
    "### Aufgabe 6_5\n",
    "In der Serie The Big Bang Theorie wurde das sehr bekannte Spiel „Schere, Stein, Papier“ etwas modifiziert, indem weitere Figuren und neue Spielregeln hinzugefügt wurden. Das Spiel funktioniert, indem zwei Spieler zeitgleich eine der folgende Figuren wählen:<br>\n",
    "Schere, Stein, Papier, Echse oder Spock<br>\n",
    "Danach finden die folgenden Regeln Anwendung, um den Gewinner zu ermitteln:\n",
    "<ul>\n",
    "<li>Papier bedeckt Stein</li><li>Echse frisst Papier</li>\n",
    "<li>Stein zerquetscht Echse</li><li>Papier widerlegt Spock</li>\n",
    "<li>Echse vergiftet Spock</li><li>Spock verdampft Stein</li>\n",
    "<li>Spock zertrümmert Schere</li><li>Stein zerstört Schere</li>\n",
    "<li>Schere köpft Echse</li><li>Schere schneidet Papier</li></ul>\n",
    "<br><br>Schreiben Sie ein Programm, welches einen menschlichen Spieler gegen die Zufallswahl des Computers bei diesem Spiel antreten lässt.\n"
   ]
  },
  {
   "cell_type": "code",
   "execution_count": null,
   "metadata": {},
   "outputs": [],
   "source": []
  },
  {
   "cell_type": "markdown",
   "metadata": {},
   "source": [
    "#### Ergänzendes Beispiel zu Verzweigungen"
   ]
  },
  {
   "cell_type": "code",
   "execution_count": null,
   "metadata": {},
   "outputs": [],
   "source": [
    "spieler_weiß = True\n",
    "figur = 'B'\n",
    "\n",
    "# Bei einem Schachspiel überprüfen, ob der Spieler \n",
    "# eine eigene Figur ausgewählt hat. \n",
    "# Weiße Figuren verwenden kleinbuchstaben ('b', 't', 'p', 'l', 'd', 'k')\n",
    "# Schwarze Figuren verwenden Großbuchstaben ('B', 'T', 'P', 'L', 'D', 'K')\n",
    "\n",
    "if (spieler_weiß == True):\n",
    "    if (figur == 'b' or figur == 't' or figur == 'p' or figur == 'l' or figur == 'd' or figur == 'k'):\n",
    "        eigene_figur_gewählt = True\n",
    "    else:\n",
    "        print(\"Sie können nur eigene Figuren bewegen\")\n",
    "        eigene_figur_gewählt = False\n",
    "    \n",
    "else:  # wenn spieler_weiß != True, ist Schwarz am Zug\n",
    "    if (figur == 'B' or figur == 'T' or figur == 'P' or figur == 'L' or figur == 'D' or figur == 'K'):\n",
    "        eigene_figur_gewählt = True\n",
    "    else:\n",
    "        print(\"Sie können nur eigene Figuren bewegen\")\n",
    "        eigene_figur_gewählt = False"
   ]
  }
 ],
 "metadata": {
  "kernelspec": {
   "display_name": "Python 3",
   "language": "python",
   "name": "python3"
  },
  "language_info": {
   "codemirror_mode": {
    "name": "ipython",
    "version": 3
   },
   "file_extension": ".py",
   "mimetype": "text/x-python",
   "name": "python",
   "nbconvert_exporter": "python",
   "pygments_lexer": "ipython3",
   "version": "3.7.3"
  }
 },
 "nbformat": 4,
 "nbformat_minor": 2
}
