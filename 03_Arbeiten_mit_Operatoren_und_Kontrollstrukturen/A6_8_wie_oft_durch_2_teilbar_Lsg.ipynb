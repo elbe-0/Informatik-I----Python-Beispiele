{
 "cells": [
  {
   "cell_type": "code",
   "execution_count": null,
   "metadata": {},
   "outputs": [],
   "source": [
    "\"\"\" \n",
    "Das Programm berechnet, wie oft eine zuvor\n",
    "abgefragte Zahl durch zwei teilbar ist.\n",
    "Programmierer: Martin Strube\n",
    "letzte Änderung: 03.09.2019\n",
    "\"\"\"\n",
    "# Variablen deklarieren\n",
    "zahl = 0\n",
    "ursprüngliche_zahl = 0\n",
    "zähler = 0\n",
    "rest = 0\n",
    "\n",
    "# Nutzer um Zahleingabe bitten\n",
    "print(\"Bitte geben Sie eine Ganzzahl ein\")\n",
    "zahl = int(input())\n",
    "ursprüngliche_zahl = zahl\n",
    "\n",
    "# while-Schleife nutzen, um wiederholt zu prüfen, ob die Zahl noch ohne Rest teilbar ist\n",
    "while (rest == 0):\n",
    "    rest = zahl % 2\n",
    "    if (rest == 0):\n",
    "        zahl = zahl / 2\n",
    "        zähler += 1\n",
    "\n",
    "# Nachdem die Schleife durchgelaufen ist, Print Ausgabe\n",
    "print(ursprüngliche_zahl, \" ist \", zähler, \" mal durch 2 teilbar\")"
   ]
  }
 ],
 "metadata": {
  "kernelspec": {
   "display_name": "Python 3",
   "language": "python",
   "name": "python3"
  },
  "language_info": {
   "codemirror_mode": {
    "name": "ipython",
    "version": 3
   },
   "file_extension": ".py",
   "mimetype": "text/x-python",
   "name": "python",
   "nbconvert_exporter": "python",
   "pygments_lexer": "ipython3",
   "version": "3.7.3"
  }
 },
 "nbformat": 4,
 "nbformat_minor": 2
}
