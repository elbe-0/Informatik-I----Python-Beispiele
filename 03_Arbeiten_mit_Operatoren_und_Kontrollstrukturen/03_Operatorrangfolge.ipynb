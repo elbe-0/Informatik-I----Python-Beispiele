{
 "cells": [
  {
   "cell_type": "markdown",
   "metadata": {},
   "source": [
    "### Testen Sie die Operatorrangfolge anhand folgender Beispiele:\n",
    "Überlegen Sie zunächst in welcher Reihenfolge Sie die Verarbeitung der einzelnen Ausdrücke erwarten. Testen Sie im Anschluss daran, ob Ihre Überlegungen richtig waren."
   ]
  },
  {
   "cell_type": "markdown",
   "metadata": {},
   "source": [
    "Beispiel 1: Welche Ausgabe erwarten Sie für die Zahl 501 und welche für die Zahl 20?"
   ]
  },
  {
   "cell_type": "code",
   "execution_count": null,
   "metadata": {},
   "outputs": [],
   "source": [
    "zahl = input(\"Bitte geben Sie eine beliebige Zahl ein!\")\n",
    "zahl = int(zahl)\n",
    "if zahl >500 or zahl <100 and zahl%4 != 0:\n",
    "    print(\"Diese Zahl ist in Ordnung.\")\n"
   ]
  },
  {
   "cell_type": "markdown",
   "metadata": {},
   "source": [
    "Beispiel 2: Welches Rechenergebnis erwarten Sie?"
   ]
  },
  {
   "cell_type": "code",
   "execution_count": null,
   "metadata": {},
   "outputs": [],
   "source": [
    "ergebnis = 10*2**2//10\n",
    "print(ergebnis)"
   ]
  },
  {
   "cell_type": "markdown",
   "metadata": {},
   "source": [
    "Beispiel 3: Welche Ausgabe erwarten Sie für die Zahl 50?"
   ]
  },
  {
   "cell_type": "code",
   "execution_count": null,
   "metadata": {},
   "outputs": [],
   "source": [
    "zahl = input(\"Bitte geben Sie eine beliebige Zahl ein!\")\n",
    "zahl = int(zahl)\n",
    "if zahl != 100/2 or zahl+1%5-1 == 0:\n",
    "    print(\"Diese Zahl ist in Ordnung.\")"
   ]
  }
 ],
 "metadata": {
  "kernelspec": {
   "display_name": "Python 3",
   "language": "python",
   "name": "python3"
  },
  "language_info": {
   "codemirror_mode": {
    "name": "ipython",
    "version": 3
   },
   "file_extension": ".py",
   "mimetype": "text/x-python",
   "name": "python",
   "nbconvert_exporter": "python",
   "pygments_lexer": "ipython3",
   "version": "3.7.3"
  }
 },
 "nbformat": 4,
 "nbformat_minor": 2
}
