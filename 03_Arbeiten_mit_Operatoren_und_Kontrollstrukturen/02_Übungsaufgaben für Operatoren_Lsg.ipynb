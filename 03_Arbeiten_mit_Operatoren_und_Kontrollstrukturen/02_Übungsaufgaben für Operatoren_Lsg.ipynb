{
 "cells": [
  {
   "cell_type": "markdown",
   "metadata": {},
   "source": [
    "# Übungsaufgaben zur Anwendung von Operatoren\n",
    "Nutzen Sie die folgenden Aufgaben, um Ihre Kenntnisse in der Anwendung von Operatoren zu vertiefen."
   ]
  },
  {
   "cell_type": "markdown",
   "metadata": {},
   "source": [
    "## Aufgabe 3: \n",
    "Schreiben Sie ein Programm, welches den Nutzer zur Eingabe einer dreistelligen Ganzzahl auffordert. Speichern Sie diese Ganzzahl auf einer Variablen. Erweitern Sie Ihr Programm so, dass die Quersumme dieser Zahl berechnet und auf dem Bildschirm ausgegeben ist. Hinweis: Die Quersumme ist die Summe aus den einzelnen Ziffern einer Zahl."
   ]
  },
  {
   "cell_type": "code",
   "execution_count": 6,
   "metadata": {},
   "outputs": [
    {
     "name": "stdout",
     "output_type": "stream",
     "text": [
      "Bitte geben Sie eine dreistellige Zahl ein!\n",
      "345\n",
      "Die Quersumme von: 345 lauetet: 12\n"
     ]
    }
   ],
   "source": [
    "zahl = int(input(\"Bitte geben Sie eine dreistellige Zahl ein!\\n\"))\n",
    "hunderter = zahl // 100\n",
    "rest = zahl % 100\n",
    "zehner = rest // 10\n",
    "einer = rest % 10\n",
    "quersumme = hunderter + zehner + einer\n",
    "\n",
    "print(\"Die Quersumme von:\", zahl, \"lauetet:\", quersumme)"
   ]
  },
  {
   "cell_type": "markdown",
   "metadata": {},
   "source": [
    "## Aufgabe 4: \n",
    "Schreiben Sie ein Programm, welches prüft, ob eine vom Anwender eingegebene Zahl ohne Rest durch 5 teilbar ist. Hinweis: Hierzu können Sie eine if-Bedingung nutzen, die wir in der Vorlesung noch nicht behandelt haben. Nutzen Sie die google-Suche, um ein Beispiel für die Anwendung zu finden."
   ]
  },
  {
   "cell_type": "code",
   "execution_count": 8,
   "metadata": {},
   "outputs": [
    {
     "name": "stdout",
     "output_type": "stream",
     "text": [
      "Bitte geben Sie eine beliebige Zahl ein!\n",
      "67\n",
      "Dies Zahl 67 ist nicht ohne Rest durch 5 teilbar.\n"
     ]
    }
   ],
   "source": [
    "zahl = int(input(\"Bitte geben Sie eine beliebige Zahl ein!\\n\"))\n",
    "\n",
    "if (zahl % 5):\n",
    "    print (\"Die Zahl\", zahl, \"ist nicht ohne Rest durch 5 teilbar.\")\n",
    "else:\n",
    "    print (\"Die Zahl\", zahl, \"ist ohne Rest durch 5 teilbar.\")"
   ]
  },
  {
   "cell_type": "markdown",
   "metadata": {},
   "source": [
    "## Aufgabe 5: \n",
    "Erweitern Sie Ihr Programm nun so, dass geprüft wird, ob die eingegebene Zahl durch 5 teilbar  und größer als 100 ist."
   ]
  },
  {
   "cell_type": "code",
   "execution_count": 12,
   "metadata": {},
   "outputs": [
    {
     "name": "stdout",
     "output_type": "stream",
     "text": [
      "Bitte geben Sie eine beliebige Zahl ein!\n",
      "46\n",
      "Die Zahl 46 ist nicht ohne Rest durch 5 teilbar und kleiner als 100.\n"
     ]
    }
   ],
   "source": [
    "zahl = int(input(\"Bitte geben Sie eine beliebige Zahl ein!\\n\"))\n",
    "\n",
    "if (zahl % 5):\n",
    "    print (\"Die Zahl\", zahl, \"ist nicht ohne Rest durch 5 teilbar\", end=\" \")\n",
    "    if(zahl > 100):\n",
    "        print(\"und größer als 100.\")\n",
    "    else:\n",
    "        print(\"und kleiner als 100.\") \n",
    "else:\n",
    "    print (\"Die Zahl\", zahl, \"ist ohne Rest durch 5 teilbar\", end=\" \")\n",
    "    if(zahl > 100):\n",
    "        print(\"und größer als 100.\")\n",
    "    else:\n",
    "        print(\"und kleiner als 100.\") "
   ]
  },
  {
   "cell_type": "code",
   "execution_count": null,
   "metadata": {},
   "outputs": [],
   "source": []
  }
 ],
 "metadata": {
  "kernelspec": {
   "display_name": "Python 3",
   "language": "python",
   "name": "python3"
  },
  "language_info": {
   "codemirror_mode": {
    "name": "ipython",
    "version": 3
   },
   "file_extension": ".py",
   "mimetype": "text/x-python",
   "name": "python",
   "nbconvert_exporter": "python",
   "pygments_lexer": "ipython3",
   "version": "3.7.3"
  }
 },
 "nbformat": 4,
 "nbformat_minor": 2
}
