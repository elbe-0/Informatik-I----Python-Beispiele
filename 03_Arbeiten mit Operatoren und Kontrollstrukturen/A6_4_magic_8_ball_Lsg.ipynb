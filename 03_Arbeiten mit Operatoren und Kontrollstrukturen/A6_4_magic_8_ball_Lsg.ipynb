{
 "cells": [
  {
   "cell_type": "code",
   "execution_count": null,
   "metadata": {},
   "outputs": [],
   "source": [
    "import random\n",
    "random.seed()  # Zufallsgenerator initialisieren\n",
    "zufallszahl = random.randint(0, 7)  # Zufallszahl von 0 bis 7 generieren\n",
    "\n",
    "if (zufallszahl == 0):\n",
    "    print('It is decidedly so')\n",
    "elif (zufallszahl == 1):\n",
    "    print('Without a doubt')\n",
    "elif (zufallszahl == 2):\n",
    "    print('Yes - definitely')\n",
    "elif (zufallszahl == 3):\n",
    "    print('Reply hazy, try again')\n",
    "elif (zufallszahl == 4):\n",
    "    print('Ask again later')\n",
    "elif (zufallszahl == 5):\n",
    "    print('Cannot predict now')\n",
    "elif (zufallszahl == 6):\n",
    "    print('My reply is no')\n",
    "elif (zufallszahl == 7):\n",
    "    print('Very doubtful')"
   ]
  }
 ],
 "metadata": {
  "kernelspec": {
   "display_name": "Python 3",
   "language": "python",
   "name": "python3"
  },
  "language_info": {
   "codemirror_mode": {
    "name": "ipython",
    "version": 3
   },
   "file_extension": ".py",
   "mimetype": "text/x-python",
   "name": "python",
   "nbconvert_exporter": "python",
   "pygments_lexer": "ipython3",
   "version": "3.7.3"
  }
 },
 "nbformat": 4,
 "nbformat_minor": 2
}
