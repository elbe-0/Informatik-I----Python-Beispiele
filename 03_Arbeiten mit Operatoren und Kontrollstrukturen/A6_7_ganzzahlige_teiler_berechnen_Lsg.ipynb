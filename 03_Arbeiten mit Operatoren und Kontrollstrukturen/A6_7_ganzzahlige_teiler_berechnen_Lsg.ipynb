{
 "cells": [
  {
   "cell_type": "code",
   "execution_count": 1,
   "metadata": {},
   "outputs": [
    {
     "name": "stdout",
     "output_type": "stream",
     "text": [
      "Bitte geben Sie eine Zahl ein\n",
      "80\n",
      "40  ist ein ganzzahliger Teiler von  80\n",
      "20  ist ein ganzzahliger Teiler von  80\n",
      "16  ist ein ganzzahliger Teiler von  80\n",
      "10  ist ein ganzzahliger Teiler von  80\n",
      "8  ist ein ganzzahliger Teiler von  80\n",
      "5  ist ein ganzzahliger Teiler von  80\n",
      "4  ist ein ganzzahliger Teiler von  80\n",
      "2  ist ein ganzzahliger Teiler von  80\n"
     ]
    }
   ],
   "source": [
    "\"\"\" Ganzzahlige Teiler berechnen\n",
    "Das Programm berechnet alle ganzzahligen Teiler\n",
    "einer zuvor abgefragten Zahl\n",
    "Programmierer: Martin Strube\n",
    "letzte Änderung: 03.09.2019\n",
    "\"\"\"\n",
    "\n",
    "# Variablen deklarieren\n",
    "zahl = 0\n",
    "ganzzahliger_teiler = 0\n",
    "rest = 0\n",
    "\n",
    "# Nutzer nach der Zahl fragen\n",
    "print(\"Bitte geben Sie eine Zahl ein\")\n",
    "zahl = int(input())\n",
    "\n",
    "# Mithilfe der Modulo Funktion berechnen, welche ganzzahligen Teiler es gibt.\n",
    "# Wenn die Modulo Funktion keinen Rest liefert, ist die Zahl ganzzahlig teilbar.\n",
    "\n",
    "for i in range(2, zahl, 1):\n",
    "    rest = zahl % i\n",
    "    if (rest == 0):\n",
    "        ganzzahliger_teiler = zahl / i\n",
    "        print(int(ganzzahliger_teiler), \" ist ein ganzzahliger Teiler von \", zahl)"
   ]
  },
  {
   "cell_type": "code",
   "execution_count": null,
   "metadata": {},
   "outputs": [],
   "source": []
  }
 ],
 "metadata": {
  "kernelspec": {
   "display_name": "Python 3",
   "language": "python",
   "name": "python3"
  },
  "language_info": {
   "codemirror_mode": {
    "name": "ipython",
    "version": 3
   },
   "file_extension": ".py",
   "mimetype": "text/x-python",
   "name": "python",
   "nbconvert_exporter": "python",
   "pygments_lexer": "ipython3",
   "version": "3.7.3"
  }
 },
 "nbformat": 4,
 "nbformat_minor": 2
}
