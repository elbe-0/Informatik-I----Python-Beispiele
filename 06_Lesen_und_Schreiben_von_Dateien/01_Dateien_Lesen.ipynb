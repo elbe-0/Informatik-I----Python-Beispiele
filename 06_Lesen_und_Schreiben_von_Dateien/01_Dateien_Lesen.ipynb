{
 "cells": [
  {
   "cell_type": "markdown",
   "metadata": {},
   "source": [
    "# Dateien Lesen\n",
    "Der erste Schritt besteht im Öffnen einer bestehenden Datei mithilfe der Funktion open(). Dabei muss der Funktion der Dateipfad der zu öffnenden Datei übergeben werden. Weiterhin kann der Funktion der gewünschte Dateimodus übergeben werden, falls später auch das Schreiben von Daten geplant ist.\n"
   ]
  },
  {
   "cell_type": "code",
   "execution_count": null,
   "metadata": {},
   "outputs": [],
   "source": [
    "file = open(\"Temperaturverlauf.txt\",\"r\")  # Öffnen der Datei \n",
    "                                          # Dateipfad und Dateimodus übergeben\n",
    "print(file) # Infos über file ausgeben"
   ]
  },
  {
   "cell_type": "markdown",
   "metadata": {},
   "source": [
    "Wenn man den Inhalt der Datei auslesen und auf dem Bildschirm ausgeben möchte:"
   ]
  },
  {
   "cell_type": "code",
   "execution_count": null,
   "metadata": {},
   "outputs": [],
   "source": [
    "print(file.read()) # Inhalt der Datei lesen und auf den Bildschirm schreiben"
   ]
  },
  {
   "cell_type": "markdown",
   "metadata": {},
   "source": [
    "Ganz wichtig: Am Ende des Programms sollte die Datei wieder geschlossen werden."
   ]
  },
  {
   "cell_type": "code",
   "execution_count": null,
   "metadata": {},
   "outputs": [],
   "source": [
    "file.close()"
   ]
  },
  {
   "cell_type": "markdown",
   "metadata": {},
   "source": [
    "### Verschiedene Arten eine Datei einzulesen"
   ]
  },
  {
   "cell_type": "code",
   "execution_count": null,
   "metadata": {},
   "outputs": [],
   "source": [
    "# Einlesen einer bestimmten Anzahl von Zeichen\n",
    "file = open(\"Temperaturverlauf.txt\",\"r\") \n",
    "print(file.read(10))\n",
    "file.close()"
   ]
  },
  {
   "cell_type": "code",
   "execution_count": null,
   "metadata": {},
   "outputs": [],
   "source": [
    "# Einlesen einer ganzen Datei\n",
    "file = open(\"Temperaturverlauf.txt\",\"r\") \n",
    "print(file.read())\n",
    "file.close()"
   ]
  },
  {
   "cell_type": "code",
   "execution_count": null,
   "metadata": {},
   "outputs": [],
   "source": [
    "# Einlesen jeder einzelnen Zeile mit einer Schleife\n",
    "file = open(\"Temperaturverlauf.txt\",\"r\") \n",
    "for linie in file:\n",
    "    print(linie)\n",
    "file.close()"
   ]
  },
  {
   "cell_type": "code",
   "execution_count": null,
   "metadata": {},
   "outputs": [],
   "source": [
    "# Einlesen jeder einzelnen Zeile mittels readlines()\n",
    "file = open(\"Temperaturverlauf.txt\",\"r\") \n",
    "print(file.readlines())\n",
    "file.close()"
   ]
  },
  {
   "cell_type": "markdown",
   "metadata": {},
   "source": [
    "### Aufgabe 9_1:\n",
    "Schreiben Sie ein Programm, welches die Textdatei Beschreibung.txt einliest. (Sie finden diese Textdatei unter Stud.IP im Verzeichnis Ihrer Veranstaltung.) <br>\n",
    "a) Ermitteln Sie danach wie oft jeder Vokal in jeder einzelnen Zeile des Textes vorkommt. <br>\n",
    "b) Ermitteln Sie nun wie oft jeder Vokal im gesamten Text vokommt und stellen Sie das Ergebnis in einem Diagramm dar. <br>"
   ]
  },
  {
   "cell_type": "code",
   "execution_count": null,
   "metadata": {},
   "outputs": [],
   "source": []
  }
 ],
 "metadata": {
  "kernelspec": {
   "display_name": "Python 3",
   "language": "python",
   "name": "python3"
  },
  "language_info": {
   "codemirror_mode": {
    "name": "ipython",
    "version": 3
   },
   "file_extension": ".py",
   "mimetype": "text/x-python",
   "name": "python",
   "nbconvert_exporter": "python",
   "pygments_lexer": "ipython3",
   "version": "3.7.3"
  }
 },
 "nbformat": 4,
 "nbformat_minor": 2
}
