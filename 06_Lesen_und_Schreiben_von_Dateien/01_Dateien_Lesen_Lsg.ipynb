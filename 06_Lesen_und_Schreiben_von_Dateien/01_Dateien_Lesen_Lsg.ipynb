{
 "cells": [
  {
   "cell_type": "markdown",
   "metadata": {},
   "source": [
    "# Dateien Lesen\n",
    "Der erste Schritt besteht im Öffnen einer bestehenden Datei mithilfe der Funktion open(). Dabei muss der Funktion der Dateipfad der zu öffnenden Datei übergeben werden. Weiterhin kann der Funktion der gewünschte Dateimodus übergeben werden, falls später auch das Schreiben von Daten geplant ist.\n"
   ]
  },
  {
   "cell_type": "code",
   "execution_count": null,
   "metadata": {},
   "outputs": [],
   "source": [
    "file = open(\"Temperaturverlauf.txt\",\"r\")  # Öffnen der Datei \n",
    "                                          # Dateipfad und Dateimodus übergeben\n",
    "print(file) # Infos über file ausgeben"
   ]
  },
  {
   "cell_type": "markdown",
   "metadata": {},
   "source": [
    "Wenn man den Inhalt der Datei auslesen und auf dem Bildschirm ausgeben möchte:"
   ]
  },
  {
   "cell_type": "code",
   "execution_count": null,
   "metadata": {},
   "outputs": [],
   "source": [
    "print(file.read()) # Inhalt der Datei lesen und auf den Bildschirm schreiben"
   ]
  },
  {
   "cell_type": "markdown",
   "metadata": {},
   "source": [
    "Ganz wichtig: Am Ende des Programms sollte die Datei wieder geschlossen werden."
   ]
  },
  {
   "cell_type": "code",
   "execution_count": null,
   "metadata": {},
   "outputs": [],
   "source": [
    "file.close()"
   ]
  },
  {
   "cell_type": "markdown",
   "metadata": {},
   "source": [
    "### Verschiedene Arten eine Datei einzulesen"
   ]
  },
  {
   "cell_type": "code",
   "execution_count": null,
   "metadata": {},
   "outputs": [],
   "source": [
    "# Einlesen einer bestimmten Anzahl von Zeichen\n",
    "file = open(\"Temperaturverlauf.txt\",\"r\") \n",
    "print(file.read(10))\n",
    "file.close()"
   ]
  },
  {
   "cell_type": "code",
   "execution_count": null,
   "metadata": {},
   "outputs": [],
   "source": [
    "# Einlesen einer ganzen Datei\n",
    "file = open(\"Temperaturverlauf.txt\",\"r\") \n",
    "print(file.read())\n",
    "file.close()"
   ]
  },
  {
   "cell_type": "code",
   "execution_count": null,
   "metadata": {},
   "outputs": [],
   "source": [
    "# Einlesen jeder einzelnen Zeile mit einer Schleife\n",
    "file = open(\"Temperaturverlauf.txt\",\"r\") \n",
    "for linie in file:\n",
    "    print(linie)\n",
    "file.close()"
   ]
  },
  {
   "cell_type": "code",
   "execution_count": null,
   "metadata": {},
   "outputs": [],
   "source": [
    "# Einlesen jeder einzelnen Zeile mittels readlines()\n",
    "file = open(\"Temperaturverlauf.txt\",\"r\") \n",
    "print(file.readlines())\n",
    "file.close()"
   ]
  },
  {
   "cell_type": "markdown",
   "metadata": {},
   "source": [
    "### Aufgabe 9_1:\n",
    "Schreiben Sie ein Programm, welches die Textdatei Beschreibung.txt einliest. (Sie finden diese Textdatei unter Stud.IP im Verzeichnis Ihrer Veranstaltung.) <br>\n",
    "a) Ermitteln Sie danach wie oft jeder Vokal in jeder einzelnen Zeile des Textes vorkommt. <br>\n",
    "b) Ermitteln Sie nun wie oft jeder Vokal im gesamten Text vokommt und stellen Sie das Ergebnis in einem Diagramm dar. <br>"
   ]
  },
  {
   "cell_type": "markdown",
   "metadata": {},
   "source": [
    "### Musterlösung"
   ]
  },
  {
   "cell_type": "markdown",
   "metadata": {},
   "source": [
    "### Aufgabe 9_1\n",
    "a) Ermitteln Sie danach wie oft jeder Vokal in jeder einzelnen Zeile des Textes vorkommt. "
   ]
  },
  {
   "cell_type": "code",
   "execution_count": 3,
   "metadata": {},
   "outputs": [
    {
     "name": "stdout",
     "output_type": "stream",
     "text": [
      "Vokale in der 1 Zeile\n",
      "# a's: 13\n",
      "# e's: 30          \n",
      "# i's: 18\n",
      "# o's: 7\n",
      "# u's: 10\n",
      "Vokale in der 2 Zeile\n",
      "# a's: 8\n",
      "# e's: 36          \n",
      "# i's: 18\n",
      "# o's: 4\n",
      "# u's: 10\n",
      "Vokale in der 3 Zeile\n",
      "# a's: 6\n",
      "# e's: 24          \n",
      "# i's: 16\n",
      "# o's: 0\n",
      "# u's: 6\n",
      "Vokale in der 4 Zeile\n",
      "# a's: 11\n",
      "# e's: 34          \n",
      "# i's: 23\n",
      "# o's: 2\n",
      "# u's: 10\n",
      "Vokale in der 5 Zeile\n",
      "# a's: 5\n",
      "# e's: 19          \n",
      "# i's: 9\n",
      "# o's: 2\n",
      "# u's: 3\n"
     ]
    }
   ],
   "source": [
    "file = open(\"Beschreibung.txt\",\"r\") # Öffnen der Datei im Lesemodus\n",
    "\n",
    "# Variablen\n",
    "a_zähler = 0\n",
    "e_zähler = 0\n",
    "i_zähler = 0\n",
    "o_zähler = 0\n",
    "u_zähler = 0\n",
    "zeilen_counter = 1\n",
    "\n",
    "# Einlesen jeder einzelnen Zeile mit einer Schleife\n",
    "for linie in file:\n",
    "    # Zählen der einzelnen Vokale in der aktuellen Zeile\n",
    "    a_zähler = linie.count(\"a\")+ linie.count(\"A\")\n",
    "    e_zähler = linie.count(\"e\")+ linie.count(\"E\")\n",
    "    i_zähler = linie.count(\"i\")+ linie.count(\"I\")\n",
    "    o_zähler = linie.count(\"o\")+ linie.count(\"O\")\n",
    "    u_zähler = linie.count(\"u\")+ linie.count(\"U\")\n",
    "    \n",
    "    # Ausgabe der Ergebnisse\n",
    "    print(f\"Vokale in der {zeilen_counter} Zeile\\n# a's: {a_zähler}\\n# e's: {e_zähler}\\\n",
    "          \\n# i's: {i_zähler}\\n# o's: {o_zähler}\\n# u's: {u_zähler}\")\n",
    "    zeilen_counter += 1 # Zeilencounter um eins erhöhen\n",
    "    \n",
    "file.close()"
   ]
  },
  {
   "cell_type": "markdown",
   "metadata": {},
   "source": [
    "### Aufgabe 9_1\n",
    "b) Ermitteln Sie nun wie oft jeder Vokal im gesamten Text vokommt und stellen Sie das Ergebnis in einem Diagramm dar. "
   ]
  },
  {
   "cell_type": "code",
   "execution_count": 2,
   "metadata": {},
   "outputs": [
    {
     "data": {
      "image/png": "[encoded data removed]",
      "text/plain": [
       "<Figure size 432x288 with 1 Axes>"
      ]
     },
     "metadata": {
      "needs_background": "light"
     },
     "output_type": "display_data"
    }
   ],
   "source": [
    "import matplotlib.pyplot as plt\n",
    "\n",
    "file = open(\"Beschreibung.txt\",\"r\") # Öffnen der Datei im Lesemodus\n",
    "\n",
    "# Variablen\n",
    "a_zähler = 0\n",
    "e_zähler = 0\n",
    "i_zähler = 0\n",
    "o_zähler = 0\n",
    "u_zähler = 0\n",
    "zeilen_counter = 1\n",
    "\n",
    "# Einlesen jeder einzelnen Zeile mit einer Schleife\n",
    "for linie in file:\n",
    "    # Zählt die Vokale in der aktuellen Zeile und fügt diese zu unseren Vokalzählervariablen hinzu\n",
    "    a_zähler = linie.count(\"a\")+ linie.count(\"A\")\n",
    "    e_zähler = linie.count(\"e\")+ linie.count(\"E\")\n",
    "    i_zähler = linie.count(\"i\")+ linie.count(\"I\")\n",
    "    o_zähler = linie.count(\"o\")+ linie.count(\"O\")\n",
    "    u_zähler = linie.count(\"u\")+ linie.count(\"U\")\n",
    "\n",
    "# Erstellung von Listen mit den Vokalen, sowie den Ergebnissen der Auszählung\n",
    "vokale = ('a', 'e', 'i', 'o', 'u')\n",
    "vokal_zähler = [a_zähler, e_zähler, i_zähler, o_zähler, u_zähler]\n",
    "\n",
    "# Darstellung der Ergebnisse in einem Bar Diagramm\n",
    "# Unsere x-Achse enthält die Vokale und unsere y-Achse die Anzahl der Vokale\n",
    "plt.bar(vokale, vokal_zähler)\n",
    "plt.ylabel('# der Vokale')\n",
    "plt.title('Anzahl der Vokale in der eingelesenen Datei')\n",
    "\n",
    "plt.show()  \n",
    "\n",
    "file.close() # Schließen der Datei"
   ]
  },
  {
   "cell_type": "code",
   "execution_count": null,
   "metadata": {},
   "outputs": [],
   "source": []
  },
  {
   "cell_type": "code",
   "execution_count": null,
   "metadata": {},
   "outputs": [],
   "source": []
  }
 ],
 "metadata": {
  "kernelspec": {
   "display_name": "Python 3",
   "language": "python",
   "name": "python3"
  },
  "language_info": {
   "codemirror_mode": {
    "name": "ipython",
    "version": 3
   },
   "file_extension": ".py",
   "mimetype": "text/x-python",
   "name": "python",
   "nbconvert_exporter": "python",
   "pygments_lexer": "ipython3",
   "version": "3.7.3"
  }
 },
 "nbformat": 4,
 "nbformat_minor": 2
}
