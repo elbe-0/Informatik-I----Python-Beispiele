{
 "cells": [
  {
   "cell_type": "markdown",
   "metadata": {},
   "source": [
    "# Dateien Schreiben\n",
    "Der erste Schritt besteht im Öffnen einer bestehenden Datei mithilfe der Funktion open(). Dabei muss der Funktion der Dateipfad der zu öffnenden Datei übergeben werden. Weiterhin muss der Funktion entweder der Dateimodus \"r\" für read oder \"a\" für append übergeben werden. "
   ]
  },
  {
   "cell_type": "code",
   "execution_count": null,
   "metadata": {},
   "outputs": [],
   "source": [
    "file = open(\"Temperaturverlauf.txt\",\"w\")  # Öffnen der Datei \n",
    "                                          # Dateipfad und Dateimodus übergeben\n",
    "print(file) # Infos über file ausgeben"
   ]
  },
  {
   "cell_type": "markdown",
   "metadata": {},
   "source": [
    "Wenn man den Inhalt der Datei auslesen und auf dem Bildschirm ausgeben möchte:"
   ]
  },
  {
   "cell_type": "code",
   "execution_count": null,
   "metadata": {},
   "outputs": [],
   "source": [
    "print(file.read()) # Inhalt der Datei lesen und auf den Bildschirm schreiben"
   ]
  },
  {
   "cell_type": "markdown",
   "metadata": {},
   "source": [
    "Ganz wichtig: Am Ende des Programms sollte die Datei wieder geschlossen werden."
   ]
  },
  {
   "cell_type": "code",
   "execution_count": null,
   "metadata": {},
   "outputs": [],
   "source": [
    "file.close()"
   ]
  },
  {
   "cell_type": "markdown",
   "metadata": {},
   "source": [
    "### Verschiedene Arten, um in eine Datei zu schreiben"
   ]
  },
  {
   "cell_type": "code",
   "execution_count": 3,
   "metadata": {},
   "outputs": [],
   "source": [
    "# Überschreiben des bisherigen Inhalts einer Datei\n",
    "file = open(\"meinText.txt\",\"w\") \n",
    "file.write(\"In 3 Wochen endet das Semester.\" + \"Ich muss mich auf die Prüfung vorbereiten\")\n",
    "file.close()"
   ]
  },
  {
   "cell_type": "code",
   "execution_count": 10,
   "metadata": {},
   "outputs": [],
   "source": [
    "# Schreiben von Daten an das Ende einer Datei (anhängen von Daten)\n",
    "import datetime\n",
    "file = open(\"meinAlterText.txt\",\"a\") \n",
    "file.write(str(datetime.datetime.now()) + \" Das ist mein Eintrag in das Log-File\\n\")\n",
    "file.close()"
   ]
  },
  {
   "cell_type": "code",
   "execution_count": null,
   "metadata": {},
   "outputs": [],
   "source": []
  },
  {
   "cell_type": "code",
   "execution_count": 4,
   "metadata": {},
   "outputs": [
    {
     "name": "stdout",
     "output_type": "stream",
     "text": [
      "In 3 Wochen endet das Semester.Ich muss mich auf die Prüfung vorbereiten\n"
     ]
    }
   ],
   "source": [
    "# Öffnen einer Datei zum Lesen und Schreiben\n",
    "# Überschreiben des bisherigen Inhalts einer Datei\n",
    "file = open(\"meinText.txt\",\"r+\") \n",
    "file.write(\"In 3 Wochen endet das Semester.\" + \"Ich muss mich auf die Prüfung vorbereiten\")\n",
    "print(file.readline())\n",
    "file.close()"
   ]
  },
  {
   "cell_type": "markdown",
   "metadata": {},
   "source": [
    "### Aufgabe 9_2:\n",
    "Bei Jugendlichen, die viel Zeit mit Online-Gaming verbringen, hat sich eine eigene Schreibweise, die sogenannte Leetspeak etabliert. Schreiben Sie ein Programm, welches die Textdatei Beschreibung.txt einliest. (Sie finden diese Textdatei unter Stud.IP im Verzeichnis Ihrer Veranstaltung.) Ersetzen Sie dann die darin enthaltenen Buchstaben wie folgt, damit der Text auch in Leetspeak lesbar wird: <br>\n",
    "I = !<br>\n",
    "A = 4<br>\n",
    "B = 8<br>\n",
    "G = 6<br>\n",
    "H = #<br>\n",
    "T = 7<br>\n",
    "O = 0<br>\n",
    "\n",
    "Speichern Sie diesen Text dann in einer neuen Textdatei mit dem Namen Leetspeak.txt.<br> "
   ]
  },
  {
   "cell_type": "code",
   "execution_count": 12,
   "metadata": {},
   "outputs": [],
   "source": [
    "file = open(\"Beschreibung.txt\",\"r\")  # Öffnen des Texts im Lesemodus\n",
    "leetspeak_datei = open(\"Leetspeak.txt\",\"a\") # Öffnen der neuen Leetspeak Datei im Appendmodus, um Zeile für Zeile \n",
    "                                            # ergänzen zu können\n",
    "\n",
    "# Einlesen jeder einzelnen Zeile mit einer Schleife\n",
    "for linie in file:\n",
    "    # Ersetzen von Buchstaben nach den Leetspeakregeln. Syntax: string.replace(alt, neu)\n",
    "    leetspeak_zeile = (linie.replace('I', '!')\n",
    "    .replace('A', '4')\n",
    "    .replace('B', '8')\n",
    "    .replace('G', '6')\n",
    "    .replace('H', '#')\n",
    "    .replace('T', '7')\n",
    "    .replace('O', '0'))\n",
    "    # Wir schreiben die aktuelle Zeile in die Leetspeak.txt \n",
    "    leetspeak_datei.write(leetspeak_zeile)\n",
    "    \n",
    "# Schließen der beiden Dateien\n",
    "file.close()\n",
    "leetspeak_datei.close()"
   ]
  },
  {
   "cell_type": "code",
   "execution_count": null,
   "metadata": {},
   "outputs": [],
   "source": []
  }
 ],
 "metadata": {
  "kernelspec": {
   "display_name": "Python 3",
   "language": "python",
   "name": "python3"
  },
  "language_info": {
   "codemirror_mode": {
    "name": "ipython",
    "version": 3
   },
   "file_extension": ".py",
   "mimetype": "text/x-python",
   "name": "python",
   "nbconvert_exporter": "python",
   "pygments_lexer": "ipython3",
   "version": "3.7.3"
  }
 },
 "nbformat": 4,
 "nbformat_minor": 2
}
