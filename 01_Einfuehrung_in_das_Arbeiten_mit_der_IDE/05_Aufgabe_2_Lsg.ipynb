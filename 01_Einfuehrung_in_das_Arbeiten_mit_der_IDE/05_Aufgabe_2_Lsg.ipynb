{
 "cells": [
  {
   "cell_type": "code",
   "execution_count": 1,
   "metadata": {},
   "outputs": [
    {
     "name": "stdout",
     "output_type": "stream",
     "text": [
      "\tW\n",
      "\ti\n",
      "\tl\n",
      "\tl\n",
      "\tk\n",
      "\to\n",
      "\tm\n",
      "\tm\n",
      "\te\n",
      "\tn\n",
      "\t\tb\n",
      "\t\te\n",
      "\t\ti\n",
      "\t\t\tInformatik!\n",
      "2 + 4 = 6\n"
     ]
    }
   ],
   "source": [
    "print(\"\\tW\\n\\ti\\n\\tl\\n\\tl\\n\\tk\\n\\to\\n\\tm\\n\\tm\\n\\te\\n\\tn\\n\\t\\tb\\n\\t\\te\\n\\t\\ti\\n\\t\\t\\tInformatik!\")\n",
    "print(\"2 + 4 =\", 2 + 4)"
   ]
  },
  {
   "cell_type": "code",
   "execution_count": null,
   "metadata": {},
   "outputs": [],
   "source": []
  }
 ],
 "metadata": {
  "kernelspec": {
   "display_name": "Python 3",
   "language": "python",
   "name": "python3"
  },
  "language_info": {
   "codemirror_mode": {
    "name": "ipython",
    "version": 3
   },
   "file_extension": ".py",
   "mimetype": "text/x-python",
   "name": "python",
   "nbconvert_exporter": "python",
   "pygments_lexer": "ipython3",
   "version": "3.7.3"
  }
 },
 "nbformat": 4,
 "nbformat_minor": 2
}
