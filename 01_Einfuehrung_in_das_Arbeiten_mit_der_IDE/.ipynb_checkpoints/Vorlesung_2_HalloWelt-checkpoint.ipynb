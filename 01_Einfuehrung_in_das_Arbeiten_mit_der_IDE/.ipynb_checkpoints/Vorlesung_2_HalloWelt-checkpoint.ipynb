{
 "cells": [
  {
   "cell_type": "markdown",
   "metadata": {},
   "source": [
    "# Notebook Hallo Welt"
   ]
  },
  {
   "cell_type": "code",
   "execution_count": 1,
   "metadata": {
    "scrolled": true
   },
   "outputs": [
    {
     "name": "stdout",
     "output_type": "stream",
     "text": [
      "Hallo Jupyter Welt\n"
     ]
    }
   ],
   "source": [
    "print('Hallo Jupyter Welt')"
   ]
  },
  {
   "cell_type": "markdown",
   "metadata": {},
   "source": [
    "### Als nächstes versuchen wir eine Zahl vom Anwender eingeben zu lassen."
   ]
  },
  {
   "cell_type": "code",
   "execution_count": 3,
   "metadata": {},
   "outputs": [
    {
     "name": "stdout",
     "output_type": "stream",
     "text": [
      "Bitte geben Sie eine Zahl ein:\n",
      "2\n",
      "Die Zahl lautet: 2\n"
     ]
    }
   ],
   "source": [
    "print(\"Bitte geben Sie eine Zahl ein:\")\n",
    "zahl = input()\n",
    "print('Die Zahl lautet: ' +  zahl)"
   ]
  },
  {
   "cell_type": "markdown",
   "metadata": {},
   "source": [
    "einfacher geht es so:"
   ]
  },
  {
   "cell_type": "code",
   "execution_count": 4,
   "metadata": {},
   "outputs": [
    {
     "name": "stdout",
     "output_type": "stream",
     "text": [
      "Bitte geben Sie eine Zahl ein:23\n",
      "Die Zahl lautet: 23\n"
     ]
    }
   ],
   "source": [
    "zahl = input(\"Bitte geben Sie eine Zahl ein:\")\n",
    "print('Die Zahl lautet: ' +  zahl)"
   ]
  },
  {
   "cell_type": "markdown",
   "metadata": {},
   "source": [
    "## Aufgabe 1"
   ]
  },
  {
   "cell_type": "markdown",
   "metadata": {},
   "source": [
    "Schreiben Sie ein Programm welches zwei ganze Zahlen hintereinander einliest, zwischenspeichert, addiert \n",
    "und das Ergebnis im Notebook ausgibt."
   ]
  },
  {
   "cell_type": "code",
   "execution_count": null,
   "metadata": {},
   "outputs": [],
   "source": []
  },
  {
   "cell_type": "markdown",
   "metadata": {},
   "source": [
    "Was beobachten Sie? Was hätten Sie erwartet?\n",
    "\n",
    "die input() Funktion liefert die Eingabe als Zeichenkette, bzw. String zurück. \n",
    "Python erkennt dies und interpretiert das \"+\"-Zeichen als Anweisung, die zwie eingegeben Strings aneinanderuzureihen.\n",
    "\n",
    "Wir werden in einer der nächsten Vorlesungen noch auf unterschiedliche Datentypen eingehen. Hier wollen wir ganze Zahlen verarbeiten. Dazu müssen wir dies dem Program mitteilen:"
   ]
  },
  {
   "cell_type": "code",
   "execution_count": 3,
   "metadata": {},
   "outputs": [
    {
     "name": "stdout",
     "output_type": "stream",
     "text": [
      "Bitte geben Sie eine Zahl ein:2\n"
     ]
    }
   ],
   "source": [
    "zahl = int(input(\"Bitte geben Sie eine Zahl ein:\"))"
   ]
  },
  {
   "cell_type": "markdown",
   "metadata": {},
   "source": [
    "Übertragen Sie dies in Ihr oben geschriebenes Program!"
   ]
  },
  {
   "cell_type": "code",
   "execution_count": null,
   "metadata": {},
   "outputs": [],
   "source": []
  },
  {
   "cell_type": "markdown",
   "metadata": {},
   "source": [
    "# Demonstration von Steuerzeichen"
   ]
  },
  {
   "cell_type": "code",
   "execution_count": 7,
   "metadata": {},
   "outputs": [
    {
     "name": "stdout",
     "output_type": "stream",
     "text": [
      "Ein Rückschritt macht aus *\\b# nur *\b#\n"
     ]
    }
   ],
   "source": [
    "print (\"Ein Rückschritt macht aus *\\\\b# nur *\\b#\")"
   ]
  },
  {
   "cell_type": "code",
   "execution_count": 40,
   "metadata": {},
   "outputs": [
    {
     "name": "stdout",
     "output_type": "stream",
     "text": [
      "Ein Wagenrücklauf mit\\r überschreibt der Anfang. \r",
      "Wie \n"
     ]
    }
   ],
   "source": [
    "print (\"Ein Wagenrücklauf mit\\\\r überschreibt der Anfang. \\rWie \")"
   ]
  },
  {
   "cell_type": "markdown",
   "metadata": {},
   "source": [
    "sinvoll eingesetzt für Zähler:"
   ]
  },
  {
   "cell_type": "code",
   "execution_count": 41,
   "metadata": {},
   "outputs": [
    {
     "name": "stdout",
     "output_type": "stream",
     "text": [
      "99\r"
     ]
    }
   ],
   "source": [
    "import time\n",
    "\n",
    "i = 0\n",
    "while i < 100:\n",
    "    s = str(i) + \"\\r\"\n",
    "    print(s, end='')\n",
    "    i+=1\n",
    "    time.sleep(0.8)\n",
    "    #print(\"\\r\")\n",
    "    "
   ]
  },
  {
   "cell_type": "code",
   "execution_count": 12,
   "metadata": {
    "scrolled": true
   },
   "outputs": [
    {
     "name": "stdout",
     "output_type": "stream",
     "text": [
      "Hallo Welt!\n",
      "\n",
      "Bitte geben Sie Ihren Vornamen ein:Hans\n",
      "Bitte geben Sie Ihren Nachnamen ein:Meyer\n",
      "Hallo Hans Meyer!\n"
     ]
    }
   ],
   "source": [
    "# Im Kopf des Programms stehen in der Regel folgende Informationen\n",
    "# 1. Was ist die Aufgabe des Programms\n",
    "# 2. Wer ist der Autor des Programms\n",
    "# 3. Wann wurde das Programm geschrieben, wann zuletzt geändert\n",
    "#\n",
    "# Dies ist das erste Beispielprogramm zur Demonstration des Ablaufs\n",
    "# Autor: U. Triltsch\n",
    "# Erstellt: 19.08.2019\n",
    "# Zuletzt geändert: 19.08.2019\n",
    "\n",
    "# Eine Ausgabe auf der Konsole \n",
    "print(\"Hallo Welt!\\n\")\n",
    "\n",
    "# Individuelle Begrüßung\n",
    "vorname = input(\"Bitte geben Sie Ihren Vornamen ein:\")    # Eingabe\n",
    "nachname = input(\"Bitte geben Sie Ihren Nachnamen ein:\")\n",
    "\n",
    "gruss = \"Hallo \" + vorname + \" \" + nachname + \"!\"         # Verarbeitung\n",
    " \n",
    "print(gruss)                                              # Ausgabe"
   ]
  },
  {
   "cell_type": "code",
   "execution_count": 14,
   "metadata": {},
   "outputs": [],
   "source": [
    "#Funktion begruessung\n",
    "def begruessung (a, b):\n",
    "  text = 'Hallo ' + a + ' ' + b + '!'\n",
    "  return text"
   ]
  },
  {
   "cell_type": "code",
   "execution_count": 15,
   "metadata": {},
   "outputs": [
    {
     "name": "stdout",
     "output_type": "stream",
     "text": [
      "Bitte geben Sie Ihren Vornamen ein:Hans\n",
      "Bitte geben Sie Ihren Nachnamen ein:Müller\n",
      "Hallo Hans Müller!\n"
     ]
    }
   ],
   "source": [
    "#Programmbeginn\n",
    "vorname = input(\"Bitte geben Sie Ihren Vornamen ein:\")   # Anweisung 1\n",
    "nachname = input(\"Bitte geben Sie Ihren Nachnamen ein:\") # Anweisung 2\n",
    "ergebnis = begruessung (vorname, nachname)               # Anweisung 3\n",
    "#…\n",
    "print (ergebnis)                                         # Anweisung n\n",
    "#Programmenende\n"
   ]
  },
  {
   "cell_type": "code",
   "execution_count": 20,
   "metadata": {},
   "outputs": [
    {
     "name": "stdout",
     "output_type": "stream",
     "text": [
      "Willkommen bei der Python Programmierung!\n",
      "Ich stehe auch so in der nächsten Zeile!\n"
     ]
    }
   ],
   "source": [
    "print(\"Willkommen bei der Python Programmierung!\")\n",
    "print(\"Ich stehe auch so in der nächsten Zeile!\")\n"
   ]
  },
  {
   "cell_type": "code",
   "execution_count": 27,
   "metadata": {},
   "outputs": [
    {
     "name": "stdout",
     "output_type": "stream",
     "text": [
      "Bitte geben Sie Ihren Vornamen ein:\n",
      "Max\n",
      "Willkommen Max!\n"
     ]
    }
   ],
   "source": [
    "vorname = input(\"Bitte geben Sie Ihren Vornamen ein:\\n\")\n",
    "print(\"Willkommen \" + vorname + \"!\")"
   ]
  },
  {
   "cell_type": "code",
   "execution_count": 32,
   "metadata": {},
   "outputs": [
    {
     "name": "stdout",
     "output_type": "stream",
     "text": [
      "Ein Backspace mit: (\\b) |\bx\n",
      "Ein Tabulator mit: (\\t) |\tx\n",
      "\tPython\n",
      "\ti\n",
      "\ts\n",
      "\tt\n",
      "\ttoll\n",
      "\n",
      "\t u\n",
      "\t n\n",
      "\t d\n",
      "\n",
      "\t\tmacht Spaß!\n"
     ]
    }
   ],
   "source": [
    "print(\"Ein Backspace mit: (\\\\b) |\\bx\")\n",
    "print(\"Ein Tabulator mit: (\\\\t) |\\tx\")\n",
    "print(\"\\tPython\\n\\ti\\n\\ts\\n\\tt\\n\\ttoll\\n\")\n",
    "print(\"\\t u\\n\\t n\\n\\t d\\n\")\n",
    "print(\"\\t\\tmacht Spaß!\")"
   ]
  },
  {
   "cell_type": "code",
   "execution_count": null,
   "metadata": {},
   "outputs": [],
   "source": []
  }
 ],
 "metadata": {
  "kernelspec": {
   "display_name": "Python 3",
   "language": "python",
   "name": "python3"
  },
  "language_info": {
   "codemirror_mode": {
    "name": "ipython",
    "version": 3
   },
   "file_extension": ".py",
   "mimetype": "text/x-python",
   "name": "python",
   "nbconvert_exporter": "python",
   "pygments_lexer": "ipython3",
   "version": "3.7.3"
  }
 },
 "nbformat": 4,
 "nbformat_minor": 2
}
