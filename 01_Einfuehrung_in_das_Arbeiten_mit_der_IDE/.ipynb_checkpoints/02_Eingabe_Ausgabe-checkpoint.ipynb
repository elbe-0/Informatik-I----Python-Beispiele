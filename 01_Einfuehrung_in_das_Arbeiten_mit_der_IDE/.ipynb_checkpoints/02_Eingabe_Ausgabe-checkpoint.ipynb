{
 "cells": [
  {
   "cell_type": "markdown",
   "metadata": {},
   "source": [
    "# Ein- und Ausgabe über vorinstallierte Funktionen\n",
    "\n",
    "Wir hatten bereits in der ersten Vorlesung ein einfaches Programm geschrieben, welches einen Text ausgibt:"
   ]
  },
  {
   "cell_type": "code",
   "execution_count": 1,
   "metadata": {
    "scrolled": true
   },
   "outputs": [
    {
     "name": "stdout",
     "output_type": "stream",
     "text": [
      "Hallo Jupyter Welt\n"
     ]
    }
   ],
   "source": [
    "print('Hallo Jupyter Welt')"
   ]
  },
  {
   "cell_type": "markdown",
   "metadata": {},
   "source": [
    "### Als nächstes versuchen wir eine Zahl vom Anwender eingeben zu lassen."
   ]
  },
  {
   "cell_type": "code",
   "execution_count": 3,
   "metadata": {},
   "outputs": [
    {
     "name": "stdout",
     "output_type": "stream",
     "text": [
      "Bitte geben Sie eine Zahl ein:\n",
      "2\n",
      "Die Zahl lautet: 2\n"
     ]
    }
   ],
   "source": [
    "print(\"Bitte geben Sie eine Zahl ein:\")\n",
    "zahl = input()\n",
    "print('Die Zahl lautet: ' +  zahl)"
   ]
  },
  {
   "cell_type": "markdown",
   "metadata": {},
   "source": [
    "einfacher geht es so:"
   ]
  },
  {
   "cell_type": "code",
   "execution_count": 4,
   "metadata": {},
   "outputs": [
    {
     "name": "stdout",
     "output_type": "stream",
     "text": [
      "Bitte geben Sie eine Zahl ein:23\n",
      "Die Zahl lautet: 23\n"
     ]
    }
   ],
   "source": [
    "zahl = input(\"Bitte geben Sie eine Zahl ein:\")\n",
    "print('Die Zahl lautet: ' +  zahl)"
   ]
  },
  {
   "cell_type": "markdown",
   "metadata": {},
   "source": [
    "## Aufgabe 1"
   ]
  },
  {
   "cell_type": "markdown",
   "metadata": {},
   "source": [
    "Schreiben Sie ein Programm welches zwei ganze Zahlen hintereinander einliest, zwischenspeichert, addiert \n",
    "und das Ergebnis im Notebook ausgibt."
   ]
  },
  {
   "cell_type": "code",
   "execution_count": null,
   "metadata": {},
   "outputs": [],
   "source": []
  },
  {
   "cell_type": "markdown",
   "metadata": {},
   "source": [
    "Was beobachten Sie? Was hätten Sie erwartet?\n",
    "\n",
    "die input() Funktion liefert die Eingabe als Zeichenkette, bzw. String zurück. \n",
    "Python erkennt dies und interpretiert das \"+\"-Zeichen als Anweisung, die zwei eingegeben Strings aneinanderuzureihen.\n",
    "\n",
    "Wir werden in einer der nächsten Vorlesungen noch auf unterschiedliche Datentypen eingehen. Hier wollen wir ganze Zahlen verarbeiten. Dazu müssen wir dies dem Program mitteilen, indem wir int(...) um den input-Befehl setzen:"
   ]
  },
  {
   "cell_type": "code",
   "execution_count": 3,
   "metadata": {},
   "outputs": [
    {
     "name": "stdout",
     "output_type": "stream",
     "text": [
      "Bitte geben Sie eine Zahl ein:2\n"
     ]
    }
   ],
   "source": [
    "zahl = int(input(\"Bitte geben Sie eine Zahl ein:\"))"
   ]
  },
  {
   "cell_type": "markdown",
   "metadata": {},
   "source": [
    "Übertragen Sie dies in Ihr oben geschriebenes Program!"
   ]
  },
  {
   "cell_type": "code",
   "execution_count": null,
   "metadata": {},
   "outputs": [],
   "source": []
  }
 ],
 "metadata": {
  "kernelspec": {
   "display_name": "Python 3",
   "language": "python",
   "name": "python3"
  },
  "language_info": {
   "codemirror_mode": {
    "name": "ipython",
    "version": 3
   },
   "file_extension": ".py",
   "mimetype": "text/x-python",
   "name": "python",
   "nbconvert_exporter": "python",
   "pygments_lexer": "ipython3",
   "version": "3.7.3"
  }
 },
 "nbformat": 4,
 "nbformat_minor": 2
}
