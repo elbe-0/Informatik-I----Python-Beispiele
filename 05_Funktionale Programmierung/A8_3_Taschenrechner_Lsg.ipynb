{
 "cells": [
  {
   "cell_type": "code",
   "execution_count": null,
   "metadata": {},
   "outputs": [],
   "source": [
    "def rechnen(erste_zahl, zweite_zahl, rechenoperation):\n",
    "    if (rechenoperation == '+'):\n",
    "        print(\"Ergebnis der Addition = \", erste_zahl + zweite_zahl)\n",
    "    elif (rechenoperation == '-'):\n",
    "        print(\"Ergebnis der Subtraktion = \", erste_zahl - zweite_zahl)\n",
    "    elif (rechenoperation == '*'):\n",
    "        print(\"Ergebnis der Multiplikation = \", erste_zahl * zweite_zahl)\n",
    "    elif (rechenoperation == '/'):\n",
    "        print(\"Ergebnis der Division = \", erste_zahl / zweite_zahl)\n",
    "    else:\n",
    "        print(\"Falsche Eingabe\")\n",
    "\n",
    "# Variablen Deklaration\n",
    "erste_zahl = 0\n",
    "zweite_zahl = 0\n",
    "rechenoperation = ''\n",
    "\n",
    "# Nutzer input-Abfrage für zwei Zahlen sowie eine gewünschte Rechenoperation\n",
    "erste_zahl = float(input(\"Bitte geben Sie die erste Zahl ein\"))\n",
    "zweite_zahl = float(input(\"Bitte geben Sie die zweite Zahl ein\"))\n",
    "rechenoperation = input(\"Welche Rechenoperation soll durchgeführt werden? + - * /\")\n",
    "\n",
    "# Aufruf der Funktion rechnen mit drei Parametern\n",
    "rechnen(erste_zahl, zweite_zahl, rechenoperation)"
   ]
  },
  {
   "cell_type": "code",
   "execution_count": null,
   "metadata": {},
   "outputs": [],
   "source": []
  }
 ],
 "metadata": {
  "kernelspec": {
   "display_name": "Python 3",
   "language": "python",
   "name": "python3"
  },
  "language_info": {
   "codemirror_mode": {
    "name": "ipython",
    "version": 3
   },
   "file_extension": ".py",
   "mimetype": "text/x-python",
   "name": "python",
   "nbconvert_exporter": "python",
   "pygments_lexer": "ipython3",
   "version": "3.7.3"
  }
 },
 "nbformat": 4,
 "nbformat_minor": 2
}
