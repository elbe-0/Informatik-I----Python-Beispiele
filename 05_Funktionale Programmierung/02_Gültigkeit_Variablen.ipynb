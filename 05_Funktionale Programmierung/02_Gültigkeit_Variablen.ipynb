{
 "cells": [
  {
   "cell_type": "markdown",
   "metadata": {},
   "source": [
    "### Gültigkeit von Variablen"
   ]
  },
  {
   "cell_type": "markdown",
   "metadata": {},
   "source": [
    "Im Standardfall hat eine Variable nur eine lokale Gültigkeit, d.h. die Wertzuweisung innerhalb einer Schleife oder einer Funktion hat keinen Einfluss auf den Wert dieser Variablen außerhalb der Schleife oder Funktion."
   ]
  },
  {
   "cell_type": "code",
   "execution_count": null,
   "metadata": {},
   "outputs": [],
   "source": [
    "def meine_funktion(): \n",
    "    zahl = 500\n",
    "    print(\"Wert der zahl innerhalb der Funktion: \", zahl) \n",
    "\n",
    "zahl = 100   \n",
    "meine_funktion()\n",
    "print(\"Wert der zahl außerhalb der Funktion: \", zahl)\n"
   ]
  },
  {
   "cell_type": "markdown",
   "metadata": {},
   "source": [
    "Zugriff auf eine Variable aus einer Funktion heraus."
   ]
  },
  {
   "cell_type": "code",
   "execution_count": null,
   "metadata": {
    "scrolled": true
   },
   "outputs": [],
   "source": [
    "def ausgabe(): \n",
    "    global text\n",
    "    text = \"Guten Tag\"\n",
    "    \n",
    "text = \"Hallo\"\n",
    "ausgabe()\n",
    "print(text)"
   ]
  },
  {
   "cell_type": "markdown",
   "metadata": {},
   "source": [
    "### Aufgabe\n",
    "Welche Ausgabe erwarten Sie nach dem Ausführen des folgenden Codes?\n",
    "Was müssen Sie ändern, damit x und y in der Funktion \"tausch\" richtig getauscht werden."
   ]
  },
  {
   "cell_type": "code",
   "execution_count": null,
   "metadata": {},
   "outputs": [],
   "source": [
    "def tausch(x, y):\n",
    "    global a\n",
    "    a = 42\n",
    "    x = y\n",
    "    y = x\n",
    "    b = 33\n",
    "    b = 17\n",
    "    c = 100\n",
    "    print(a,b,x,y)\n",
    "\n",
    "a,b,x,y = 1,15,3,4\n",
    "tausch(17,5)\n",
    "print(a,b,x,y)\n",
    "\n"
   ]
  },
  {
   "cell_type": "code",
   "execution_count": null,
   "metadata": {},
   "outputs": [],
   "source": []
  }
 ],
 "metadata": {
  "kernelspec": {
   "display_name": "Python 3",
   "language": "python",
   "name": "python3"
  },
  "language_info": {
   "codemirror_mode": {
    "name": "ipython",
    "version": 3
   },
   "file_extension": ".py",
   "mimetype": "text/x-python",
   "name": "python",
   "nbconvert_exporter": "python",
   "pygments_lexer": "ipython3",
   "version": "3.7.3"
  }
 },
 "nbformat": 4,
 "nbformat_minor": 2
}
