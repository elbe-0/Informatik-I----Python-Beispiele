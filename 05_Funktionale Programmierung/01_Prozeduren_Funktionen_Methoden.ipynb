{
 "cells": [
  {
   "cell_type": "markdown",
   "metadata": {},
   "source": [
    "# Prozeduren, Funktionen und Methoden\n",
    "Die Modularisierung eines Programms bietet viele Vorteile:\n",
    "<ul>\n",
    "    <li>Programmteile, die mehrmals benötigt werden, müssen nur einmal geschrieben werden</li>\n",
    " <li>Programmteile können in anderen Programmen verwendet werden</li>\n",
    " <li>Komplexe Programme können übersichtlicher aufgebaut werden</li>\n",
    "</ul>\n",
    "\n",
    "Wie funktioniert dies?<br><br>\n",
    "Anweisungen werden zusammengefasst und erhalten einen Namen, über den diese aufgerufen werden:\n"
   ]
  },
  {
   "cell_type": "code",
   "execution_count": null,
   "metadata": {},
   "outputs": [],
   "source": [
    "def quadrat_von_3():\n",
    "    # Definition der Funktion\n",
    "    print(3*3)"
   ]
  },
  {
   "cell_type": "markdown",
   "metadata": {},
   "source": [
    "Allgemein ausgderückt lautet das Schema für ein Unterprogramm in Python:"
   ]
  },
  {
   "cell_type": "code",
   "execution_count": null,
   "metadata": {},
   "outputs": [],
   "source": [
    "def funktionsname(Parameterliste):\n",
    "    ##Funktionsrumpf"
   ]
  },
  {
   "cell_type": "markdown",
   "metadata": {},
   "source": [
    "## Unterschied zwischen Prozeduren, Funktionen, Methoden\n",
    "<b>Prozeduren</b> sind Unterprogramme, die keinen Rückgabewert liefern. Das macht z.B. bei Unterprogrammen Sinn, die nur ein Ergebnis auf dem Bildschirm ausgeben:\n",
    "\n",
    "    \n"
   ]
  },
  {
   "cell_type": "code",
   "execution_count": 6,
   "metadata": {},
   "outputs": [
    {
     "name": "stdout",
     "output_type": "stream",
     "text": [
      "Das Ergebnis der Addition lautet: 5\n",
      "Das Ergebnis der Multiplikation lautet: 6\n"
     ]
    }
   ],
   "source": [
    "def ausgabe(text_operation, ergebnis):\n",
    "    print (\"Das Ergebnis der\", text_operation,  \"lautet:\", ergebnis)\n",
    "\n",
    "#...       \n",
    "operation = \"Addition\"\n",
    "summe = 2 + 3\n",
    "ausgabe(operation, summe)\n",
    "#...\n",
    "operation = \"Multiplikation\"\n",
    "summe = 2 * 3\n",
    "ausgabe(operation, summe)\n",
    "#...\n",
    "           \n",
    "           "
   ]
  },
  {
   "cell_type": "markdown",
   "metadata": {},
   "source": [
    "<b>Funktionen</b> sind Unterprogramme, die einen Rückgabewert liefern:"
   ]
  },
  {
   "cell_type": "code",
   "execution_count": null,
   "metadata": {},
   "outputs": [],
   "source": [
    "import math \n",
    "\n",
    "def kreisumfang_berechnen(radius):\n",
    "    # Die Funktion berechnet den Kreisumfang anhand des übergebenen\n",
    "    # Radius und gibt diesen mit >>return<< zurück.\n",
    "    return 2*math.pi*radius\n",
    "\n",
    "radius = int(input(\"Geben Sie den Radius ein: \"))\n",
    "kreisumfang = kreisumfang_berechnen(radius)\n",
    "# Die Funktion kreisumfang_berechnen wird aufgerufen, und der Rückgabewert \n",
    "# in der Variable kreisumfang gespeichert.\n",
    "\n",
    "print(\"Der Kreisumfang beträgt \", kreisumfang)"
   ]
  },
  {
   "cell_type": "markdown",
   "metadata": {},
   "source": [
    "<b>Methoden</b> sind Unterprogramme, die an Objekte oder Klassen gebunden sind. Hier ein Beispiel aus dem letzen Kapitel für den Aufruf einer Methode auf einem Objekt (hier ist \"cars\" eine Objekt vom Typ \"List\":"
   ]
  },
  {
   "cell_type": "code",
   "execution_count": null,
   "metadata": {},
   "outputs": [],
   "source": [
    "cars = [\"BMW\", \"Opel\", \"VW\", \"Benz\"]\n",
    "#Methoden können mit '.' auf Objekten oder Klassen ausfgerufene werden.\n",
    "cars.append(\"Audi\")"
   ]
  },
  {
   "cell_type": "markdown",
   "metadata": {},
   "source": [
    "Klassen können genutzt werden, um den Code thematisch zu strukturieren.<br>\n",
    "So können z.B. sämtliche <b>Methoden</b>, welche mathematische Berechnungen durchführen, in einer Klasse Mathe gruppiert werden. \n"
   ]
  },
  {
   "cell_type": "code",
   "execution_count": null,
   "metadata": {},
   "outputs": [],
   "source": [
    "class Mathe():\n",
    "# Hier wird die Klasse mit dem Namen Mathe definiert\n",
    "\n",
    "    def division_durchführen(self, dividend, divisor):\n",
    "        # Methode division_durchführen teilt zwei übergebene Zahlen\n",
    "        # und gibt das Ergebnis auf dem Bildschirm aus\n",
    "        wert_des_quotienten = dividend / divisor\n",
    "        print(wert_des_quotienten)\n",
    "        \n",
    "# Syntax um eine Methode auszuführen:\n",
    "# name_der_klasse().name_der_methode(Parameter_liste)\n",
    "Mathe().division_durchführen(10, 5)"
   ]
  },
  {
   "cell_type": "markdown",
   "metadata": {},
   "source": [
    "## Definition von Funktionen\n",
    "<b>Wichtig:</b> Funktionen, Prozeduren & Methoden müssen erst definiert werden, bevor sie aufgerufen werden.\n",
    "Wird eine Funktion aufgerufen, bevor diese definiert wurde, führt es zu einem NameError-Fehler.\n"
   ]
  },
  {
   "cell_type": "code",
   "execution_count": 7,
   "metadata": {},
   "outputs": [
    {
     "ename": "NameError",
     "evalue": "name 'nutzungsbedingungen_ausgeben' is not defined",
     "output_type": "error",
     "traceback": [
      "\u001b[1;31m---------------------------------------------------------------------------\u001b[0m",
      "\u001b[1;31mNameError\u001b[0m                                 Traceback (most recent call last)",
      "\u001b[1;32m<ipython-input-7-fba2dfc2fb0e>\u001b[0m in \u001b[0;36m<module>\u001b[1;34m\u001b[0m\n\u001b[0;32m      1\u001b[0m \u001b[1;31m# Die Funktion wird an dieser Stelle aufgerufen\u001b[0m\u001b[1;33m\u001b[0m\u001b[1;33m\u001b[0m\u001b[1;33m\u001b[0m\u001b[0m\n\u001b[1;32m----> 2\u001b[1;33m \u001b[0mnutzungsbedingungen_ausgeben\u001b[0m\u001b[1;33m(\u001b[0m\u001b[1;33m)\u001b[0m\u001b[1;33m\u001b[0m\u001b[1;33m\u001b[0m\u001b[0m\n\u001b[0m\u001b[0;32m      3\u001b[0m \u001b[1;33m\u001b[0m\u001b[0m\n\u001b[0;32m      4\u001b[0m \u001b[1;31m# aber erst hier definiert, was zu einem NameError führt.\u001b[0m\u001b[1;33m\u001b[0m\u001b[1;33m\u001b[0m\u001b[1;33m\u001b[0m\u001b[0m\n\u001b[0;32m      5\u001b[0m \u001b[1;32mdef\u001b[0m \u001b[0mnutzungsbedingungen_ausgeben\u001b[0m\u001b[1;33m(\u001b[0m\u001b[1;33m)\u001b[0m\u001b[1;33m:\u001b[0m\u001b[1;33m\u001b[0m\u001b[1;33m\u001b[0m\u001b[0m\n",
      "\u001b[1;31mNameError\u001b[0m: name 'nutzungsbedingungen_ausgeben' is not defined"
     ]
    }
   ],
   "source": [
    "# Die Funktion wird an dieser Stelle aufgerufen\n",
    "nutzungsbedingungen_ausgeben()\n",
    "\n",
    "# aber erst hier definiert, was zu einem NameError führt.\n",
    "def nutzungsbedingungen_ausgeben():\n",
    "    print(\"Wenn Sie weiterhin an der Vorlesung teilnehmen, \\n \\\n",
    "           stimmen Sie folgendem zu: \\n \\\n",
    "           Informatik ist total interessant!!!\")\n"
   ]
  },
  {
   "cell_type": "markdown",
   "metadata": {},
   "source": [
    "## Parameterübergabe\n",
    "<ul><li>Bei einem Aufruf einer Funktionen können Informationen mittels Parametern an diese übertragen werden.\n",
    "<li>Diese Parameter können innerhalb der Funktion ausgewertet werden, sodass wiederholte Aufrufe einer Funktion mit unterschiedlichen Parametern zu anderen Ergebnissen führen können.\n",
    "<li>Wichtig: Die Reihenfolge der Parameter wird einmalig in der Funktion definiert und muss bei jedem Aufruf dieser Funktion eingehalten werden.</ul>"
   ]
  },
  {
   "cell_type": "markdown",
   "metadata": {},
   "source": [
    "### Aufgabe 8_1: \n",
    "Was führt im folgenden Code zum Fehler? Was müssen Sie tun, um diesen Fehler zu beheben?"
   ]
  },
  {
   "cell_type": "code",
   "execution_count": 11,
   "metadata": {},
   "outputs": [
    {
     "ename": "TypeError",
     "evalue": "division_durchführen() missing 1 required positional argument: 'divisor'",
     "output_type": "error",
     "traceback": [
      "\u001b[1;31m---------------------------------------------------------------------------\u001b[0m",
      "\u001b[1;31mTypeError\u001b[0m                                 Traceback (most recent call last)",
      "\u001b[1;32m<ipython-input-11-a8dd6d423faa>\u001b[0m in \u001b[0;36m<module>\u001b[1;34m\u001b[0m\n\u001b[0;32m      5\u001b[0m     \u001b[0mprint\u001b[0m\u001b[1;33m(\u001b[0m\u001b[0mtext\u001b[0m\u001b[1;33m,\u001b[0m \u001b[0mwert_des_quotienten\u001b[0m\u001b[1;33m)\u001b[0m\u001b[1;33m\u001b[0m\u001b[1;33m\u001b[0m\u001b[0m\n\u001b[0;32m      6\u001b[0m \u001b[1;33m\u001b[0m\u001b[0m\n\u001b[1;32m----> 7\u001b[1;33m \u001b[0mdivision_durchführen\u001b[0m\u001b[1;33m(\u001b[0m\u001b[1;36m10\u001b[0m\u001b[1;33m,\u001b[0m \u001b[1;36m5\u001b[0m\u001b[1;33m)\u001b[0m    \u001b[1;31m# Aufruf der Funktion division_durchführen\u001b[0m\u001b[1;33m\u001b[0m\u001b[1;33m\u001b[0m\u001b[0m\n\u001b[0m",
      "\u001b[1;31mTypeError\u001b[0m: division_durchführen() missing 1 required positional argument: 'divisor'"
     ]
    }
   ],
   "source": [
    "def division_durchführen(text, dividend, divisor):\n",
    "    # Methode division_durchführen teilt zwei übergebene Zahlen\n",
    "    # und gibt das Ergebnis auf dem Bildschirm aus\n",
    "    wert_des_quotienten = dividend / divisor\n",
    "    print(text, wert_des_quotienten)\n",
    "    \n",
    "division_durchführen(10, 5)    # Aufruf der Funktion division_durchführen"
   ]
  },
  {
   "cell_type": "markdown",
   "metadata": {},
   "source": [
    "### Variablen und Funktionen als Parameter\n",
    "Es können auch Variablen und andere Funktionen in Parametrelisten eingesetzt werden:"
   ]
  },
  {
   "cell_type": "code",
   "execution_count": 2,
   "metadata": {},
   "outputs": [
    {
     "name": "stdout",
     "output_type": "stream",
     "text": [
      "Heute ist der 2019-09-12 14:00:09.868899\n"
     ]
    }
   ],
   "source": [
    "import datetime\n",
    "\n",
    "def ergebnis_ausgabe(input_string):\n",
    "    # Die Prozedur ergebnis_ausgabe erzeugt\n",
    "    # eine Bildschirmausgabe des übergebenen Strings\n",
    "    print(input_string)\n",
    "    \n",
    "ergebnis_ausgabe(\"Heute ist der \" + str(datetime.datetime.now()))"
   ]
  },
  {
   "cell_type": "markdown",
   "metadata": {},
   "source": [
    "### Aufgabe 8_2:\n",
    "Nutzen Sie den Degugger, um  die folgenden Programmabläufe schrittweise nachzuvollziehen. Hinweise zur Arbeit mit Pixidust finden Sie in Kapitel 4 der Vorlesungsunterlagen und in folgendem Notebook:<br>\n",
    "<a href=\"https://mybinder.org/v2/gh/Informatikvorlesung-Fak-M/Python-Beispiele/master?filepath=%2FBlock_04%2F03_Debugger.ipynb\" target=\"_blank\">Arbeiten mit dem Debugger</a>"
   ]
  },
  {
   "cell_type": "markdown",
   "metadata": {},
   "source": [
    "#### Sequentieller Ablauf"
   ]
  },
  {
   "cell_type": "code",
   "execution_count": null,
   "metadata": {},
   "outputs": [],
   "source": [
    "import math \n",
    "\n",
    "radius = int(input(\"Bitte den Radius in cm eingeben\"))\n",
    "kreisumfang = 2*math.pi*radius\n",
    "print(f\"Der Kreisumfang beträgt {kreisumfang} cm\")"
   ]
  },
  {
   "cell_type": "markdown",
   "metadata": {},
   "source": [
    "#### Springender Ablauf mit Funktionen"
   ]
  },
  {
   "cell_type": "code",
   "execution_count": null,
   "metadata": {},
   "outputs": [],
   "source": [
    "import math \n",
    "\n",
    "def kreisumfang_berechnen(radius):\n",
    "    return 2*math.pi*radius\n",
    "\n",
    "def radius_abfragen():\n",
    "    radius = int(input(\"Bitte den Radius in cm eingeben\"))\n",
    "    return radius\n",
    "  \n",
    "radius = radius_abfragen()  \n",
    "kreisumfang = kreisumfang_berechnen(radius) \n",
    "print(f\"Der Kreisumfang beträgt {kreisumfang} cm\")"
   ]
  },
  {
   "cell_type": "markdown",
   "metadata": {},
   "source": [
    "### Augbabe 8_3 - Taschenrechner\n",
    "Schreiben Sie das Taschenrechner Beispiel aus Kapitel 6 so um, dass die Rechenoperationen in einer Funktion ausgeführt werden."
   ]
  },
  {
   "cell_type": "code",
   "execution_count": null,
   "metadata": {},
   "outputs": [],
   "source": [
    "# Deklaration der Variablen\n",
    "erste_zahl = 0\n",
    "zweite_zahl = 0\n",
    "rechenoperation = ''\n",
    "\n",
    "# Nutzereingabe abfragen\n",
    "erste_zahl = float(input(\"Bitte geben Sie die erste Zahl ein\"))\n",
    "zweite_zahl = float(input(\"Bitte geben Sie die zweite Zahl ein\"))\n",
    "rechenoperation = input(\"Welche Rechenoperation soll durchgeführt werden? + - * /\")\n",
    "\n",
    "# Prüfen, welche Rechenoperation durchgeführt werden soll\n",
    "if (rechenoperation == '+'):\n",
    "    print(\"Ergebnis der Addition = \", erste_zahl + zweite_zahl)\n",
    "elif (rechenoperation == '-'):\n",
    "    print(\"Ergebnis der Subtraktion = \", erste_zahl - zweite_zahl)\n",
    "elif (rechenoperation == '*'):\n",
    "    print(\"Ergebnis der Multiplikation = \", erste_zahl * zweite_zahl)\n",
    "elif (rechenoperation == '/'):\n",
    "    print(\"Ergebnis der Division = \", erste_zahl / zweite_zahl)\n",
    "else:\n",
    "    print(\"Falsche Eingabe\")"
   ]
  },
  {
   "cell_type": "markdown",
   "metadata": {},
   "source": [
    "### Aufgabe 8_3 - Dezimal nach Binär wandeln\n",
    "Schreiben Sie eine Programm, welches vom Nutzer eine Zahl abfragt, die dann mithilfe einer Funktion in Binärcode umgewandelt wird. Ergänzen Sie dazu folgenden Code:"
   ]
  },
  {
   "cell_type": "code",
   "execution_count": null,
   "metadata": {},
   "outputs": [],
   "source": [
    "def dezimal_zu_binär():\n",
    "    \"\"\" Die Funktion bekommt einen Dezimalwert und gibt einen Binärwert zurück \"\"\"\n",
    "    binär_liste = []\n",
    "    binär_zahl = 0\n",
    "    \n",
    "    while > 0:\n",
    "        # Um von Dezimal zu Binär umzurechnen, berechnet man den Modulo\n",
    "        # und speichert das Ergebnis in umgekehrter Reihenfolge\n",
    "        # daher wird jeder neue Wert mit .insert(0) an den Anfang gesetzt\n",
    "        binär_liste.insert(0, )\n",
    "        \n",
    "    # Aus der Liste soll eine zusammenhängende Zahl gebildet werden\n",
    "    for zahl in range(len(binär_liste)):\n",
    "        binär_zahl = \n",
    "        \n",
    "    return binär_zahl\n",
    "\n",
    "binär_zahl = \n",
    "print(dezimal, \"in Binärcode ist:\", binär_zahl)"
   ]
  },
  {
   "cell_type": "markdown",
   "metadata": {},
   "source": [
    "### Aufgabe 8_4 - Datum\n",
    "Schreiben Sie eine Programm, welches das aktuelle Datum in einer Variable speichert und auf dem Bildschirm ausgibt. \n",
    "<br>Nutzen Sie hierzu zwei Funktionen:\n",
    "<ul><li>eine, um das Datum zu erzeugen,\n",
    "<li>eine, um das Datum auszugeben.</ul>\n",
    "Nutzen Sie das datetime Modul!"
   ]
  },
  {
   "cell_type": "code",
   "execution_count": null,
   "metadata": {},
   "outputs": [],
   "source": [
    "import datetime\n",
    "\n",
    "def zeit_ausgabe(zeit):\n",
    "    \"\"\"Gerüst der ersten Funktion\"\"\" \n",
    "    print()"
   ]
  }
 ],
 "metadata": {
  "kernelspec": {
   "display_name": "Python 3",
   "language": "python",
   "name": "python3"
  },
  "language_info": {
   "codemirror_mode": {
    "name": "ipython",
    "version": 3
   },
   "file_extension": ".py",
   "mimetype": "text/x-python",
   "name": "python",
   "nbconvert_exporter": "python",
   "pygments_lexer": "ipython3",
   "version": "3.7.3"
  }
 },
 "nbformat": 4,
 "nbformat_minor": 2
}
