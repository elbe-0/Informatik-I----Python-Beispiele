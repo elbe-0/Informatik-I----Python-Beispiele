{
 "cells": [
  {
   "cell_type": "code",
   "execution_count": 4,
   "metadata": {},
   "outputs": [
    {
     "ename": "NameError",
     "evalue": "name 'Parameter_liste' is not defined",
     "output_type": "error",
     "traceback": [
      "\u001b[1;31m---------------------------------------------------------------------------\u001b[0m",
      "\u001b[1;31mNameError\u001b[0m                                 Traceback (most recent call last)",
      "\u001b[1;32m<ipython-input-4-51c93ad84534>\u001b[0m in \u001b[0;36m<module>\u001b[1;34m\u001b[0m\n\u001b[0;32m      8\u001b[0m     \u001b[1;32mpass\u001b[0m\u001b[1;33m\u001b[0m\u001b[1;33m\u001b[0m\u001b[0m\n\u001b[0;32m      9\u001b[0m \u001b[1;33m\u001b[0m\u001b[0m\n\u001b[1;32m---> 10\u001b[1;33m \u001b[0mfunktions_name\u001b[0m\u001b[1;33m(\u001b[0m\u001b[0mParameter_liste\u001b[0m\u001b[1;33m)\u001b[0m\u001b[1;33m\u001b[0m\u001b[1;33m\u001b[0m\u001b[0m\n\u001b[0m",
      "\u001b[1;31mNameError\u001b[0m: name 'Parameter_liste' is not defined"
     ]
    }
   ],
   "source": [
    "def funktions_name(Parameter_liste):\n",
    "    # Jede Funktion wird wie oben beschrieben definiert\n",
    "    # Es beginnt mit dem Schlüsselwort >>def<<, gefolgt\n",
    "    # von dem Namen der Funktion, gefolgt von >>()<<\n",
    "    # Wobei in den Klammern Parameter übertragen werden,\n",
    "    # oder diese leergelassen werden können.\n",
    "    # Und zu guter letzt folgt der >>:<<\n",
    "    return input(\"PIN-Eingabe\") \n",
    "\n",
    "funktions_name(Parameter_liste)    \n",
    "# Eine Funktion wird mit ihrem Namen aufgerufen, \n",
    "# gefolgt von >>()<<. Wenn die Funktion mit Parametern\n",
    "# definiert ist, müssen diese bei dem Funktionsaufruf \n",
    "# mit angegeben werden\n",
    "\n",
    "\n"
   ]
  },
  {
   "cell_type": "code",
   "execution_count": 2,
   "metadata": {},
   "outputs": [
    {
     "ename": "NameError",
     "evalue": "name 'funktions_name' is not defined",
     "output_type": "error",
     "traceback": [
      "\u001b[1;31m---------------------------------------------------------------------------\u001b[0m",
      "\u001b[1;31mNameError\u001b[0m                                 Traceback (most recent call last)",
      "\u001b[1;32m<ipython-input-2-7a7632bea012>\u001b[0m in \u001b[0;36m<module>\u001b[1;34m\u001b[0m\n\u001b[1;32m----> 1\u001b[1;33m \u001b[0mfunktions_name\u001b[0m\u001b[1;33m(\u001b[0m\u001b[0mParameter_liste\u001b[0m\u001b[1;33m)\u001b[0m\u001b[1;33m\u001b[0m\u001b[1;33m\u001b[0m\u001b[0m\n\u001b[0m",
      "\u001b[1;31mNameError\u001b[0m: name 'funktions_name' is not defined"
     ]
    }
   ],
   "source": [
    "funktions_name(Parameter_liste)"
   ]
  },
  {
   "cell_type": "code",
   "execution_count": null,
   "metadata": {},
   "outputs": [],
   "source": [
    "def funktions_name():\n",
    "    return input(\"PIN-Eingabe\") \n",
    "    # Soll die Funktion etwas zurückliefern, \n",
    "    # wird das Keyword >>return<< verwendet,\n",
    "    # gefolgt von dem, was zurückgeliefert werden soll"
   ]
  }
 ],
 "metadata": {
  "kernelspec": {
   "display_name": "Python 3",
   "language": "python",
   "name": "python3"
  },
  "language_info": {
   "codemirror_mode": {
    "name": "ipython",
    "version": 3
   },
   "file_extension": ".py",
   "mimetype": "text/x-python",
   "name": "python",
   "nbconvert_exporter": "python",
   "pygments_lexer": "ipython3",
   "version": "3.7.3"
  }
 },
 "nbformat": 4,
 "nbformat_minor": 2
}
