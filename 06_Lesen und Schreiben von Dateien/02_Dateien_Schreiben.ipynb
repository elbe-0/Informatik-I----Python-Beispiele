{
 "cells": [
  {
   "cell_type": "markdown",
   "metadata": {},
   "source": [
    "# Dateien Schreiben\n",
    "Der erste Schritt besteht im Öffnen einer bestehenden Datei mithilfe der Funktion open(). Dabei muss der Funktion der Dateipfad der zu öffnenden Datei übergeben werden. Weiterhin muss der Funktion entweder der Dateimodus \"r\" für read oder \"a\" für append übergeben werden. "
   ]
  },
  {
   "cell_type": "code",
   "execution_count": null,
   "metadata": {},
   "outputs": [],
   "source": [
    "file = open(\"Temperaturverlauf.txt\",\"w\")  # Öffnen der Datei \n",
    "                                          # Dateipfad und Dateimodus übergeben\n",
    "print(file) # Infos über file ausgeben"
   ]
  },
  {
   "cell_type": "markdown",
   "metadata": {},
   "source": [
    "Wenn man den Inhalt der Datei auslesen und auf dem Bildschirm ausgeben möchte:"
   ]
  },
  {
   "cell_type": "code",
   "execution_count": null,
   "metadata": {},
   "outputs": [],
   "source": [
    "print(file.read()) # Inhalt der Datei lesen und auf den Bildschirm schreiben"
   ]
  },
  {
   "cell_type": "markdown",
   "metadata": {},
   "source": [
    "Ganz wichtig: Am Ende des Programms sollte die Datei wieder geschlossen werden."
   ]
  },
  {
   "cell_type": "code",
   "execution_count": null,
   "metadata": {},
   "outputs": [],
   "source": [
    "file.close()"
   ]
  },
  {
   "cell_type": "markdown",
   "metadata": {},
   "source": [
    "### Verschiedene Arten, um in eine Datei zu schreiben"
   ]
  },
  {
   "cell_type": "code",
   "execution_count": 3,
   "metadata": {},
   "outputs": [],
   "source": [
    "# Überschreiben des bisherigen Inhalts einer Datei\n",
    "file = open(\"meinText.txt\",\"w\") \n",
    "file.write(\"In 3 Wochen endet das Semester.\" + \"Ich muss mich auf die Prüfung vorbereiten\")\n",
    "file.close()"
   ]
  },
  {
   "cell_type": "code",
   "execution_count": 10,
   "metadata": {},
   "outputs": [],
   "source": [
    "# Schreiben von Daten an das Ende einer Datei (anhängen von Daten)\n",
    "import datetime\n",
    "file = open(\"meinAlterText.txt\",\"a\") \n",
    "file.write(str(datetime.datetime.now()) + \" Das ist mein Eintrag in das Log-File\\n\")\n",
    "file.close()"
   ]
  },
  {
   "cell_type": "code",
   "execution_count": 4,
   "metadata": {},
   "outputs": [
    {
     "name": "stdout",
     "output_type": "stream",
     "text": [
      "In 3 Wochen endet das Semester.Ich muss mich auf die Prüfung vorbereiten\n"
     ]
    }
   ],
   "source": [
    "# Öffnen einer Datei zum Lesen und Schreiben\n",
    "# Überschreiben des bisherigen Inhalts einer Datei\n",
    "file = open(\"meinText.txt\",\"r+\") \n",
    "file.write(\"In 3 Wochen endet das Semester.\" + \"Ich muss mich auf die Prüfung vorbereiten\")\n",
    "print(file.readline())\n",
    "file.close()"
   ]
  },
  {
   "cell_type": "markdown",
   "metadata": {},
   "source": [
    "### Aufgabe 9_2:\n",
    "Bei Jugendlichen, die viel Zeit mit Online-Gaming verbringen, hat sich eine eigene Schreibweise, die sogenannte Leetspeak etabliert. Schreiben Sie ein Programm, welches die Textdatei Beschreibung.txt einliest. (Sie finden diese Textdatei unter Stud.IP im Verzeichnis Ihrer Veranstaltung.) Ersetzen Sie dann die darin enthaltenen Buchstaben wie folgt, damit der Text auch in Leetspeak lesbar wird: <br>\n",
    "I = !<br>\n",
    "A = 4<br>\n",
    "B = 8<br>\n",
    "G = 6<br>\n",
    "H = #<br>\n",
    "T = 7<br>\n",
    "O = 0<br>\n",
    "\n",
    "Speichern Sie diesen Text dann in einer neuen Textdatei mit dem Namen Leetspeak.txt.<br> "
   ]
  },
  {
   "cell_type": "code",
   "execution_count": null,
   "metadata": {},
   "outputs": [],
   "source": []
  }
 ],
 "metadata": {
  "kernelspec": {
   "display_name": "Python 3",
   "language": "python",
   "name": "python3"
  },
  "language_info": {
   "codemirror_mode": {
    "name": "ipython",
    "version": 3
   },
   "file_extension": ".py",
   "mimetype": "text/x-python",
   "name": "python",
   "nbconvert_exporter": "python",
   "pygments_lexer": "ipython3",
   "version": "3.7.3"
  }
 },
 "nbformat": 4,
 "nbformat_minor": 2
}
