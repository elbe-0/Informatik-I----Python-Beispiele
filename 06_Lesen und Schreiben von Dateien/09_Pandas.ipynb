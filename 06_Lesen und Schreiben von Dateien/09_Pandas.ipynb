{
 "cells": [
  {
   "metadata": {},
   "cell_type": "markdown",
   "source": [
    "# Pandas zur Datenverarbeitung\n",
    "In dieser Übung lernen Sie, wie man Daten mit **Pandas** einliest, analysiert und visualisiert. Wir verwenden einen Datensatz, der Informationen über verschiedene Fahrzeuge enthält, wie z.B. deren Marke, Modell, Baujahr und Kraftstoffverbrauch."
   ],
   "id": "8cb87885544b21d5"
  },
  {
   "metadata": {},
   "cell_type": "markdown",
   "source": "Zuerst werden wir die Bibliothek Pandas importieren und eine CSV-Datei mit den Fahrzeugdaten einlesen.\n",
   "id": "ee789d82ea22b284"
  },
  {
   "metadata": {
    "ExecuteTime": {
     "end_time": "2024-09-11T08:47:29.216696Z",
     "start_time": "2024-09-11T08:47:28.970160Z"
    }
   },
   "cell_type": "code",
   "source": [
    "# Importieren von Pandas\n",
    "import pandas as pd\n",
    "\n",
    "# Einlesen der CSV-Datei\n",
    "df = pd.read_csv(\"autos.csv\")"
   ],
   "id": "7d81ff71150424fb",
   "outputs": [],
   "execution_count": 1
  },
  {
   "metadata": {},
   "cell_type": "markdown",
   "source": "Wenn man die ersten Zeilen des Datensatzes anzeigen möchte, kann der folgende Befehl genutzt werden:",
   "id": "31dee6564085ee16"
  },
  {
   "metadata": {
    "ExecuteTime": {
     "end_time": "2024-09-11T08:47:31.299860Z",
     "start_time": "2024-09-11T08:47:31.295622Z"
    }
   },
   "cell_type": "code",
   "source": "print(df.head())",
   "id": "8d4ad0cda7fa0300",
   "outputs": [
    {
     "name": "stdout",
     "output_type": "stream",
     "text": [
      "      Marke    Modell  Baujahr  Kraftstoffverbrauch (l/100km)  \\\n",
      "0       BMW       3er     2015                           9.20   \n",
      "1  Mercedes  A-Klasse     2021                           9.74   \n",
      "2      Audi        A4     2020                           9.36   \n",
      "3        VW      Golf     2019                           5.99   \n",
      "4    Toyota     Prius     2021                           5.57   \n",
      "\n",
      "   CO2-Ausstoß (g/km)  \n",
      "0              103.24  \n",
      "1              133.58  \n",
      "2              151.39  \n",
      "3              179.66  \n",
      "4              133.80  \n"
     ]
    }
   ],
   "execution_count": 2
  },
  {
   "metadata": {},
   "cell_type": "markdown",
   "source": "Pandas bietet die Möglichkeit, eine schnelle Übersicht der numerischen Spalten eines Datensatzes zu erhalten. Nutzen Sie dazu die Funktion `describe()`.\n",
   "id": "6d1f0cd572375ad3"
  },
  {
   "metadata": {},
   "cell_type": "code",
   "outputs": [],
   "execution_count": null,
   "source": "print(df.describe())",
   "id": "9af3f79516870a8d"
  },
  {
   "metadata": {},
   "cell_type": "markdown",
   "source": "Jetzt filtern wir den Datensatz nach einem bestimmten Kriterium, z.B. nach dem Kraftstoffverbrauch. Danach sortieren wir die gefilterten Daten nach dem CO2-Ausstoß.",
   "id": "a8fc79af97237177"
  },
  {
   "metadata": {
    "ExecuteTime": {
     "end_time": "2024-09-11T08:47:56.714183Z",
     "start_time": "2024-09-11T08:47:56.705930Z"
    }
   },
   "cell_type": "code",
   "source": [
    "# Filter: Fahrzeuge mit einem Kraftstoffverbrauch unter 6 Litern pro 100 km\n",
    "df_filtered = df[df['Kraftstoffverbrauch (l/100km)'] < 6]\n",
    "print(df_filtered)\n",
    "\n",
    "# Sortieren der gefilterten Daten nach CO2-Ausstoß\n",
    "df_sorted = df_filtered.sort_values(by='CO2-Ausstoß (g/km)')\n",
    "print(df_sorted)"
   ],
   "id": "228eec89b9137600",
   "outputs": [
    {
     "name": "stdout",
     "output_type": "stream",
     "text": [
      "        Marke    Modell  Baujahr  Kraftstoffverbrauch (l/100km)  \\\n",
      "3          VW      Golf     2019                           5.99   \n",
      "4      Toyota     Prius     2021                           5.57   \n",
      "6    Mercedes  A-Klasse     2015                           4.54   \n",
      "7        Audi        A4     2015                           4.64   \n",
      "11   Mercedes  A-Klasse     2016                           5.61   \n",
      "..        ...       ...      ...                            ...   \n",
      "991  Mercedes  A-Klasse     2017                           5.00   \n",
      "993        VW      Golf     2018                           5.23   \n",
      "996  Mercedes  A-Klasse     2017                           4.58   \n",
      "998        VW      Golf     2018                           4.66   \n",
      "999    Toyota     Prius     2021                           5.82   \n",
      "\n",
      "     CO2-Ausstoß (g/km)  \n",
      "3                179.66  \n",
      "4                133.80  \n",
      "6                118.75  \n",
      "7                175.06  \n",
      "11               118.21  \n",
      "..                  ...  \n",
      "991              125.69  \n",
      "993              163.21  \n",
      "996              191.59  \n",
      "998              119.27  \n",
      "999              160.64  \n",
      "\n",
      "[278 rows x 5 columns]\n",
      "        Marke    Modell  Baujahr  Kraftstoffverbrauch (l/100km)  \\\n",
      "120       BMW       3er     2017                           5.58   \n",
      "325       BMW       3er     2021                           4.85   \n",
      "858        VW      Golf     2017                           4.93   \n",
      "47       Audi        A4     2020                           4.73   \n",
      "81   Mercedes  A-Klasse     2015                           5.50   \n",
      "..        ...       ...      ...                            ...   \n",
      "221  Mercedes  A-Klasse     2021                           5.64   \n",
      "768        VW      Golf     2017                           4.69   \n",
      "920       BMW       3er     2020                           4.76   \n",
      "775       BMW       3er     2017                           5.99   \n",
      "192      Audi        A4     2019                           5.26   \n",
      "\n",
      "     CO2-Ausstoß (g/km)  \n",
      "120              100.21  \n",
      "325              100.23  \n",
      "858              100.40  \n",
      "47               100.68  \n",
      "81               100.74  \n",
      "..                  ...  \n",
      "221              198.10  \n",
      "768              198.11  \n",
      "920              199.26  \n",
      "775              199.36  \n",
      "192              199.82  \n",
      "\n",
      "[278 rows x 5 columns]\n"
     ]
    }
   ],
   "execution_count": 3
  },
  {
   "metadata": {},
   "cell_type": "markdown",
   "source": "Als Nächstes gruppieren wir die Daten nach einem bestimmten Kriterium, in diesem Fall der Marke. Ziel dabei ist es, bestimmte Aussagen über die jeweilige Gruppe treffen zu können. Hierzu nutzen Sie sogenannte Aggregatsfunktionen, mit denen Sie z.B. den Durchschnitt des jeweiligen Kraftstoffverbrauchs der Gruppen berechnen. Weitere Aggregatfunktionen sind sum(), count(), welche die Summe bzw. die Gesamtanzahl der jeweiligen Gruppe ausgeben.",
   "id": "8f98cff3fecbec6"
  },
  {
   "metadata": {
    "ExecuteTime": {
     "end_time": "2024-09-11T08:51:09.752005Z",
     "start_time": "2024-09-11T08:51:09.714138Z"
    }
   },
   "cell_type": "code",
   "source": [
    "df_grouped = df.groupby('Marke')\n",
    "df_avg = df_grouped['Kraftstoffverbrauch (l/100km)'].mean()\n",
    "print(df_avg)"
   ],
   "id": "8ee031b3d8b23dd2",
   "outputs": [
    {
     "name": "stdout",
     "output_type": "stream",
     "text": [
      "Marke\n",
      "Audi        7.32155\n",
      "BMW         7.07045\n",
      "Mercedes    7.25370\n",
      "Toyota      7.39795\n",
      "VW          6.99315\n",
      "Name: Kraftstoffverbrauch (l/100km), dtype: float64\n"
     ]
    }
   ],
   "execution_count": 5
  },
  {
   "metadata": {},
   "cell_type": "markdown",
   "source": [
    "# Aufgabe: Analyse von Verkaufsdaten\n",
    "In dieser Aufgabe sollen Sie das Gelernte über Gruppierung und Aggregation mit Pandas auf einen neuen Datensatz anwenden. Sie arbeiten mit einem Datensatz, der die Verkaufszahlen verschiedener Produkte in verschiedenen Städten über einen Zeitraum enthält. Ihre Aufgabe besteht darin, diesen Datensatz zu analysieren und statistische Zusammenfassungen zu erstellen.\n",
    "\n",
    "- Lesen Sie die Datei sales.csv mit Pandas ein.\n",
    "- Filtern Sie den Datensatz nach Produkten, bei denen die Verkaufsmenge größer als 100 ist.\n",
    "- Sortieren Sie die gefilterten Daten nach Umsatz in absteigender Reihenfolge.\n",
    "- Gruppieren Sie die Daten nach Stadt und berechnen Sie den durchschnittlichen Umsatz pro Stadt."
   ],
   "id": "aaae2df8239fb430"
  },
  {
   "metadata": {},
   "cell_type": "code",
   "outputs": [],
   "execution_count": null,
   "source": "",
   "id": "f92c0773d1245298"
  }
 ],
 "metadata": {
  "kernelspec": {
   "display_name": "Python 3",
   "language": "python",
   "name": "python3"
  },
  "language_info": {
   "codemirror_mode": {
    "name": "ipython",
    "version": 2
   },
   "file_extension": ".py",
   "mimetype": "text/x-python",
   "name": "python",
   "nbconvert_exporter": "python",
   "pygments_lexer": "ipython2",
   "version": "2.7.6"
  }
 },
 "nbformat": 4,
 "nbformat_minor": 5
}
