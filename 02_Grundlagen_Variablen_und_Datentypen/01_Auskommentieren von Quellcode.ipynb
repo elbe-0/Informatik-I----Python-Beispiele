{
 "cells": [
  {
   "cell_type": "markdown",
   "metadata": {},
   "source": [
    "# Kommentare nutzen, um Teile des Quellcodes von der Ausführung auszuschließen\n",
    "Der folgenden Codeblock enthält ein Programmbeispiel, in dem ein Zwischenergebnis zwischen zwei Rechenschritten auf dem Bildschirm ausgegeben wird."
   ]
  },
  {
   "cell_type": "code",
   "execution_count": null,
   "metadata": {},
   "outputs": [],
   "source": [
    "# Dieses Beispiel verdeutlicht die Anwendung von Kommentaren, \n",
    "# um Teile des Quellcodes von der Ausführung auszuschließen.\n",
    "# Autor: M. Strube\n",
    "# Erstellt: 06.10.2019\n",
    "# Zuletzt geändert: 06.10.2019\n",
    "\n",
    "# Variablen mit Wertzuweisung erzeugen\n",
    "zahl1 = 25\n",
    "zahl2 = 50\n",
    "zahl3 = 5\n",
    "\n",
    "# Summe von zahl1 und zahl2 bilden\n",
    "summe = zahl1 + zahl2\n",
    "\n",
    "# Zwischenergebnis auf dem Bildschirm ausgeben\n",
    "print(\"Die Summe von zahl1 und zahl2 lautet:\")\n",
    "print(summe)\n",
    "\n",
    "# Produkt aus summe und zahl3 bilden\n",
    "produkt = summe * zahl3\n",
    "print(\"Das Ergebnis lautet:\")\n",
    "print(produkt)                                            "
   ]
  },
  {
   "cell_type": "markdown",
   "metadata": {},
   "source": [
    "## Aufgabe 1: Nutzen Sie einen mehrzeiligen Kommentar, um die Ausgabe des Zwischenergebnisses zu unterdrücken!\n"
   ]
  },
  {
   "cell_type": "code",
   "execution_count": null,
   "metadata": {
    "scrolled": true
   },
   "outputs": [],
   "source": []
  }
 ],
 "metadata": {
  "kernelspec": {
   "display_name": "Python 3",
   "language": "python",
   "name": "python3"
  },
  "language_info": {
   "codemirror_mode": {
    "name": "ipython",
    "version": 3
   },
   "file_extension": ".py",
   "mimetype": "text/x-python",
   "name": "python",
   "nbconvert_exporter": "python",
   "pygments_lexer": "ipython3",
   "version": "3.7.3"
  }
 },
 "nbformat": 4,
 "nbformat_minor": 2
}
