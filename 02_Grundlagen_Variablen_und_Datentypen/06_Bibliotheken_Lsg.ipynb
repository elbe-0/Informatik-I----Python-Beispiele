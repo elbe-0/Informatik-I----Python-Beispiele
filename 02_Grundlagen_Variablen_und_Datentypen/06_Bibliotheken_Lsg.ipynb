{
 "cells": [
  {
   "cell_type": "markdown",
   "metadata": {},
   "source": [
    "## Aufgabe 4.1\n",
    "\n",
    "Erzeugen Sie zehn Zufallszahlen zwischen 50 und 90 und plotten Sie diese über die aktuelle Uhrzeit. Warten Sie zwischen der Erzeugung jeweils 5 Sekunden.\n"
   ]
  },
  {
   "cell_type": "code",
   "execution_count": 20,
   "metadata": {},
   "outputs": [
    {
     "name": "stdout",
     "output_type": "stream",
     "text": [
      "66\n",
      "Aktuelle Zeit: 21:55:28\n",
      "77\n",
      "Aktuelle Zeit: 21:55:29\n",
      "63\n",
      "Aktuelle Zeit: 21:55:30\n",
      "66\n",
      "Aktuelle Zeit: 21:55:31\n",
      "65\n",
      "Aktuelle Zeit: 21:55:32\n",
      "51\n",
      "Aktuelle Zeit: 21:55:33\n",
      "82\n",
      "Aktuelle Zeit: 21:55:34\n",
      "83\n",
      "Aktuelle Zeit: 21:55:35\n",
      "82\n",
      "Aktuelle Zeit: 21:55:36\n",
      "77\n",
      "Aktuelle Zeit: 21:55:37\n"
     ]
    },
    {
     "data": {
      "image/png": "[encoded data removed]",
      "text/plain": [
       "<Figure size 720x345.6 with 1 Axes>"
      ]
     },
     "metadata": {
      "needs_background": "light"
     },
     "output_type": "display_data"
    }
   ],
   "source": [
    "from random import *\n",
    "import time\n",
    "import matplotlib.pyplot as plt\n",
    "\n",
    "plt.figure(num=1, figsize=[10.0,4.8])\n",
    "plt.ylabel('random numbers')\n",
    "plt.xlabel('time')\n",
    "\n",
    "i = 0  \n",
    "while (i < 10):\n",
    "    \n",
    "    y = randint(50, 90)    # Zufallszahl zwischen 50 und 90 auswählen\n",
    "    print (y)\n",
    "    seconds = time.time()\n",
    "    local_time = time.strftime(\"%H:%M:%S\", time.localtime()) \n",
    "    print(\"Aktuelle Zeit:\", local_time)\n",
    "    plt.plot(local_time, y,'r+')\n",
    "    time.sleep(1)\n",
    "    i += 1\n",
    "\n",
    "plt.show()\n",
    "\n"
   ]
  },
  {
   "cell_type": "code",
   "execution_count": null,
   "metadata": {},
   "outputs": [],
   "source": []
  }
 ],
 "metadata": {
  "kernelspec": {
   "display_name": "Python 3",
   "language": "python",
   "name": "python3"
  },
  "language_info": {
   "codemirror_mode": {
    "name": "ipython",
    "version": 3
   },
   "file_extension": ".py",
   "mimetype": "text/x-python",
   "name": "python",
   "nbconvert_exporter": "python",
   "pygments_lexer": "ipython3",
   "version": "3.7.3"
  }
 },
 "nbformat": 4,
 "nbformat_minor": 2
}
