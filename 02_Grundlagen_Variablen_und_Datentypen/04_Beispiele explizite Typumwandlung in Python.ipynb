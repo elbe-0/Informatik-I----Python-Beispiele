{
 "cells": [
  {
   "cell_type": "markdown",
   "metadata": {},
   "source": [
    "# Beispiel für Typumwandlung in Python\n",
    "Im Folgenden sind Beispiele für das Deklarieren und Initialisieren verschiedener Variablen dargestellt."
   ]
  },
  {
   "cell_type": "code",
   "execution_count": 2,
   "metadata": {},
   "outputs": [
    {
     "name": "stdout",
     "output_type": "stream",
     "text": [
      "diese Variabel ist vom Typ:  <class 'str'>\n",
      "diese Variabel ist vom Typ:  <class 'float'>\n"
     ]
    }
   ],
   "source": [
    "# Dieses Beispiel veranschaulicht die explizite Typumwandlung\n",
    "# von Variablen\n",
    "# Autor: M. Strube\n",
    "# Erstellt: 07.10.2019\n",
    "# Zuletzt geändert: 07.10.2019\n",
    "\n",
    "# Variable vom Typ string\n",
    "anzahl_text = \"33.3\"\n",
    "print(\"diese Variabel ist vom Typ: \", type(anzahl_text))\n",
    "\n",
    "# Variablen in float umwandeln \n",
    "anzahl_float = float(anzahl_text)\n",
    "print(\"diese Variabel ist vom Typ: \", type(anzahl_float))"
   ]
  },
  {
   "cell_type": "code",
   "execution_count": null,
   "metadata": {},
   "outputs": [],
   "source": []
  }
 ],
 "metadata": {
  "kernelspec": {
   "display_name": "Python 3",
   "language": "python",
   "name": "python3"
  },
  "language_info": {
   "codemirror_mode": {
    "name": "ipython",
    "version": 3
   },
   "file_extension": ".py",
   "mimetype": "text/x-python",
   "name": "python",
   "nbconvert_exporter": "python",
   "pygments_lexer": "ipython3",
   "version": "3.7.3"
  }
 },
 "nbformat": 4,
 "nbformat_minor": 2
}
