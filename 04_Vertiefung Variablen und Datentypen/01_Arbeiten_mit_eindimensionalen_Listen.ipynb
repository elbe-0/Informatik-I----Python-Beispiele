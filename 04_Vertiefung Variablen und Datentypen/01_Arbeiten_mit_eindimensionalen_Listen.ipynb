{
 "cells": [
  {
   "cell_type": "markdown",
   "metadata": {},
   "source": [
    "# Arbeiten mit eindimensionale Listen\n",
    "\n",
    "Weist man in Python einer Variablen mehrere kommaseparierte Werte innerhalb von eckigen Klammern zu, so entsteht automatisch eine Liste (sequentieller Datentyp). Python wählt den Datentypen dabei automatisch. \n"
   ]
  },
  {
   "cell_type": "code",
   "execution_count": null,
   "metadata": {},
   "outputs": [],
   "source": [
    "cars = [\"BMW\", \"Opel\", \"VW\", \"Benz\"]"
   ]
  },
  {
   "cell_type": "markdown",
   "metadata": {},
   "source": [
    "Über den Index eines Elementes der Liste kann man einem Element einen neuen Wert zuweisen."
   ]
  },
  {
   "cell_type": "code",
   "execution_count": null,
   "metadata": {},
   "outputs": [],
   "source": [
    "print(\"Das 3. Element hat den Wert\", cars[2])\n",
    "cars[2] = \"Ford\"\n",
    "print(\"Das 3. Element hat den Wert\",cars[2])"
   ]
  },
  {
   "cell_type": "markdown",
   "metadata": {},
   "source": [
    "Der Zugriff auf ein Elemente der Liste erfolgt entweder über den Index des Elementes oder mit einer Schleife auf alle Elemente der Liste."
   ]
  },
  {
   "cell_type": "code",
   "execution_count": null,
   "metadata": {},
   "outputs": [],
   "source": [
    "# Zugriff auf ein Element der Liste über den Index\n",
    "print(\"Einzelzugriff:\", cars[0])  # Das ist das erste Element der Liste cars\n",
    "\n",
    "# Zugriff auf alle Elemente der Liste mit einer for-Schleife\n",
    "print(\"\\nZugriff mittels for-Schleife:\")\n",
    "for x in cars:\n",
    "    print(x)\n",
    "\n"
   ]
  },
  {
   "cell_type": "markdown",
   "metadata": {},
   "source": [
    "#### Python stellt eine Reihe von Methoden zum Arbeiten mit Listen zur Verfügung: "
   ]
  },
  {
   "cell_type": "code",
   "execution_count": null,
   "metadata": {},
   "outputs": [],
   "source": [
    "# Anfügen von Elementen\n",
    "cars.append(\"Audi\")\n",
    "for x in cars:\n",
    "    print(x)"
   ]
  },
  {
   "cell_type": "code",
   "execution_count": null,
   "metadata": {},
   "outputs": [],
   "source": [
    "# Einfügen von Elementen\n",
    "cars.insert(1, \"Porsche\")\n",
    "for x in cars:\n",
    "    print(x)"
   ]
  },
  {
   "cell_type": "code",
   "execution_count": null,
   "metadata": {},
   "outputs": [],
   "source": [
    "# Löschen eines Elementes an einer bestimmten Stelle\n",
    "cars.pop(3)\n",
    "for x in cars:\n",
    "    print(x)"
   ]
  },
  {
   "cell_type": "code",
   "execution_count": null,
   "metadata": {},
   "outputs": [],
   "source": [
    "# Löschen eines Elementes mit einem bestimmten Wert\n",
    "cars.remove(\"Audi\")\n",
    "for x in cars:\n",
    "    print(x)"
   ]
  },
  {
   "cell_type": "code",
   "execution_count": null,
   "metadata": {},
   "outputs": [],
   "source": [
    "# Löschen aller Elemente\n",
    "cars.clear()\n",
    "for x in cars:\n",
    "    print(x)"
   ]
  },
  {
   "attachments": {
    "image.png": {
     "image/png": "[encoded data removed]"
    }
   },
   "cell_type": "markdown",
   "metadata": {},
   "source": [
    "### Aufgabe 7_1\n",
    "Gegeben ist folgender Code. Überführen Sie die Variablen in eine Liste. Geben Sie die Liste auf dem Bildschirm aus!\n",
    "![image.png](attachment:image.png)"
   ]
  },
  {
   "cell_type": "code",
   "execution_count": null,
   "metadata": {},
   "outputs": [],
   "source": []
  },
  {
   "cell_type": "markdown",
   "metadata": {},
   "source": [
    "### Aufgabe 7_2\n",
    "Löschen Sie aus Ihrem Ergebnis von 1. das erste Element und ersetzen sie das neue zweite Element durch eine Automarke Ihrer Wahl. Der User soll die neue Automarke eingeben können. Geben Sie das Ergebnis auf dem Bildschirm aus."
   ]
  },
  {
   "cell_type": "code",
   "execution_count": null,
   "metadata": {},
   "outputs": [],
   "source": []
  },
  {
   "cell_type": "markdown",
   "metadata": {},
   "source": [
    "### Aufgabe 7_3\n",
    "Schreiben Sie eine Funktion, die dem User das Auswählen und Ändern eines Elementes mit einem bestimmten Wert ermöglicht. Geben Sie das Ergebnis auf dem Bildschirm aus.\n"
   ]
  },
  {
   "cell_type": "code",
   "execution_count": null,
   "metadata": {},
   "outputs": [],
   "source": []
  }
 ],
 "metadata": {
  "kernelspec": {
   "display_name": "Python 3",
   "language": "python",
   "name": "python3"
  },
  "language_info": {
   "codemirror_mode": {
    "name": "ipython",
    "version": 3
   },
   "file_extension": ".py",
   "mimetype": "text/x-python",
   "name": "python",
   "nbconvert_exporter": "python",
   "pygments_lexer": "ipython3",
   "version": "3.7.3"
  }
 },
 "nbformat": 4,
 "nbformat_minor": 2
}
