{
 "cells": [
  {
   "attachments": {
    "grafik.png": {
     "image/png": "[encoded data removed]"
    }
   },
   "cell_type": "markdown",
   "metadata": {},
   "source": [
    "### Aufgabe 7_1\n",
    "\n",
    "Gegeben ist folgender Code. Überführen Sie die Variablen in eine Liste. Geben Sie die Liste auf dem Bildschirm aus! \n",
    "![grafik.png](attachment:grafik.png)"
   ]
  },
  {
   "cell_type": "code",
   "execution_count": null,
   "metadata": {},
   "outputs": [],
   "source": [
    "cars = [\"BMW\", \"Opel\", \"VW\", \"Benz\"]\n",
    "for x in cars:\n",
    "    print(x)"
   ]
  },
  {
   "cell_type": "markdown",
   "metadata": {},
   "source": [
    "### Aufgabe 7_2\n",
    "Löschen Sie aus Ihrem Ergebnis von 1. das erste Element und ersetzen sie das neue zweite Element durch eine Automarke Ihrer Wahl. Der User soll die neue Automarke eingeben können. Geben Sie das Ergebnis auf dem Bildschirm aus."
   ]
  },
  {
   "cell_type": "code",
   "execution_count": null,
   "metadata": {},
   "outputs": [],
   "source": [
    "cars.pop(0)\n",
    "cars[1] = input(\"Bitte geben Sie eine Automarke ein: \")\n",
    "for x in cars:\n",
    "    print(x)"
   ]
  },
  {
   "cell_type": "markdown",
   "metadata": {},
   "source": [
    "### Aufgabe 7_3\n",
    "Schreiben Sie eine Funktion, die dem User das Auswählen und Ändern eines Elementes mit einem bestimmten Wert ermöglicht. Geben Sie das Ergebnis auf dem Bildschirm aus."
   ]
  },
  {
   "cell_type": "code",
   "execution_count": null,
   "metadata": {},
   "outputs": [],
   "source": [
    "def suchen_ersetzen(suchwort, ersatz):\n",
    "    global cars\n",
    "    index = cars.index(suchwort)\n",
    "    cars[index] = ersatz\n",
    "\n",
    "def markeneingabe():\n",
    "    return input(\"Bitte geben Sie eine Automarke ein: \")\n",
    "        \n",
    "        \n",
    "cars = [\"BMW\", \"Opel\", \"VW\", \"Benz\"]\n",
    "for x in cars:\n",
    "    print(x)\n",
    "\n",
    "marke_alt = input(\"Welches Element soll ersetzt werden?\") \n",
    "\n",
    "suchen_ersetzen(marke_alt, markeneingabe())\n",
    "for x in cars:\n",
    "    print(x)"
   ]
  },
  {
   "cell_type": "code",
   "execution_count": null,
   "metadata": {},
   "outputs": [],
   "source": []
  }
 ],
 "metadata": {
  "kernelspec": {
   "display_name": "Python 3",
   "language": "python",
   "name": "python3"
  },
  "language_info": {
   "codemirror_mode": {
    "name": "ipython",
    "version": 3
   },
   "file_extension": ".py",
   "mimetype": "text/x-python",
   "name": "python",
   "nbconvert_exporter": "python",
   "pygments_lexer": "ipython3",
   "version": "3.7.3"
  }
 },
 "nbformat": 4,
 "nbformat_minor": 2
}
