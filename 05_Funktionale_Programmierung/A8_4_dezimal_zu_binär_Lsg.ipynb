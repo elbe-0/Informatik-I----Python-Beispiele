{
 "cells": [
  {
   "cell_type": "markdown",
   "metadata": {},
   "source": [
    "### Lösung Aufgabe 8_4"
   ]
  },
  {
   "cell_type": "code",
   "execution_count": 3,
   "metadata": {},
   "outputs": [
    {
     "name": "stdout",
     "output_type": "stream",
     "text": [
      "Bitte eine Dezimalzahl eingeben:50\n",
      "50 in Binärcode ist: 110010\n"
     ]
    }
   ],
   "source": [
    "# Lösung: \n",
    "def dezimal_zu_binär(dezimal):\n",
    "    # Die Funktion bekommt einen Dezimalwert und gibt einen Binärwert zurück\n",
    "    binär_liste = []\n",
    "    binär_zahl = 0\n",
    "    \n",
    "    while dezimal > 0:\n",
    "        # Um von Dezimal zu Binär umzurechnen, berechnet man den Modulo\n",
    "        # und speichert das Ergebnis in umgekehrter Reihenfolge\n",
    "        # daher wird jeder neue Wert mit .insert(0) an den Anfang gesetzt\n",
    "        binär_liste.insert(0, dezimal % 2)\n",
    "        dezimal = dezimal // 2\n",
    "        \n",
    "    # Aus der Liste soll eine zusammenhängende Zahl gebildet werden\n",
    "    for zahl in range(len(binär_liste)):\n",
    "        binär_zahl = binär_zahl * 10 + binär_liste[zahl]\n",
    "        \n",
    "    return binär_zahl\n",
    "\n",
    "dezimal = int(input(\"Bitte eine Dezimalzahl eingeben:\"))\n",
    "binär_zahl = dezimal_zu_binär(dezimal)\n",
    "print(dezimal, \"in Binärcode ist:\", binär_zahl)"
   ]
  },
  {
   "cell_type": "code",
   "execution_count": null,
   "metadata": {},
   "outputs": [],
   "source": []
  }
 ],
 "metadata": {
  "kernelspec": {
   "display_name": "Python 3",
   "language": "python",
   "name": "python3"
  },
  "language_info": {
   "codemirror_mode": {
    "name": "ipython",
    "version": 3
   },
   "file_extension": ".py",
   "mimetype": "text/x-python",
   "name": "python",
   "nbconvert_exporter": "python",
   "pygments_lexer": "ipython3",
   "version": "3.7.3"
  }
 },
 "nbformat": 4,
 "nbformat_minor": 2
}
