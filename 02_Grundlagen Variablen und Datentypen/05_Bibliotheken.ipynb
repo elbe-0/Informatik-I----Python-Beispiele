{
 "cells": [
  {
   "cell_type": "markdown",
   "metadata": {},
   "source": [
    "# Nutzung vom Standardbibliotheken\n",
    "## math - Mathematik"
   ]
  },
  {
   "cell_type": "markdown",
   "metadata": {},
   "source": [
    "Mathematische Standardfunktionen stehen nach dem importieren von 'math' zur Verfügung:\n",
    "https://docs.python.org/3/library/math.html"
   ]
  },
  {
   "cell_type": "code",
   "execution_count": null,
   "metadata": {},
   "outputs": [],
   "source": [
    "import math\n",
    "\n",
    "z = int(input(\"Bitte geben Sie eine Zahl ein, aus der die Wurzel gezogen werden soll:\"))\n",
    "ergebnis = math.sqrt(z)\n",
    "print (ergebnis)\n",
    "\n",
    "#Konstanten nutzen, Beispiel Pi zur Umfangsberechnung\n",
    "radius = float(input(\"Bitte geben Sie einen Radius in cm ein:\"))\n",
    "print (\"Der Umfang lautet:\", 2*math.pi*radius, \"cm\")\n"
   ]
  },
  {
   "cell_type": "markdown",
   "metadata": {},
   "source": [
    "## random - Zufallszahlen\n",
    "Es ist immer wieder notwendig einen zufällige Zahl oder einen zufällige Verteilung von Zahlen zu erzeugen.  Diese können für Tests, Spiele oder Änliches eingesetzt werden."
   ]
  },
  {
   "cell_type": "code",
   "execution_count": null,
   "metadata": {},
   "outputs": [],
   "source": [
    "from random import *\n",
    " \n",
    "x = randint(1, 100)    # Zufallszahl zwischen 1 und 100 auswählen\n",
    "print (x)"
   ]
  },
  {
   "cell_type": "markdown",
   "metadata": {},
   "source": [
    "## time - Zeit und Datum\n",
    "Die Funktion time() liefert die Sekunden seit dem 01.01.1970, 00:00:00 Uhr"
   ]
  },
  {
   "cell_type": "code",
   "metadata": {
    "ExecuteTime": {
     "end_time": "2024-09-10T11:18:40.104310Z",
     "start_time": "2024-09-10T11:18:40.102057Z"
    }
   },
   "source": [
    "import time\n",
    "seconds = time.time()\n",
    "print(\"Sekunden seit 01.01.1970, 00:00:00 Uhr =\", seconds)\t"
   ],
   "outputs": [
    {
     "name": "stdout",
     "output_type": "stream",
     "text": [
      "Sekunden seit 01.01.1970, 00:00:00 Uhr = 1725967120.1028109\n"
     ]
    }
   ],
   "execution_count": 2
  },
  {
   "cell_type": "markdown",
   "metadata": {},
   "source": [
    "Zur Umrechnung in ein sinnvolles Datum und Uhrzeit steht die Funktion ctime() zur Verfügung:"
   ]
  },
  {
   "cell_type": "code",
   "metadata": {
    "ExecuteTime": {
     "end_time": "2024-09-10T11:18:46.575143Z",
     "start_time": "2024-09-10T11:18:46.572651Z"
    }
   },
   "source": [
    "local_time = time.ctime(seconds)\n",
    "print(\"Aktuelle Zeit:\", local_time)"
   ],
   "outputs": [
    {
     "name": "stdout",
     "output_type": "stream",
     "text": [
      "Aktuelle Zeit: Tue Sep 10 13:18:40 2024\n"
     ]
    }
   ],
   "execution_count": 3
  },
  {
   "cell_type": "markdown",
   "metadata": {},
   "source": [
    "Auch so kann man die aktuelle Zeit als String bekommen:"
   ]
  },
  {
   "cell_type": "code",
   "metadata": {
    "ExecuteTime": {
     "end_time": "2024-09-10T11:18:49.123147Z",
     "start_time": "2024-09-10T11:18:49.120682Z"
    }
   },
   "source": [
    "local_time = time.strftime(\"%a, %d %b %Y %H:%M:%S\", time.localtime()) \n",
    "print(\"Aktuelle Zeit:\", local_time)"
   ],
   "outputs": [
    {
     "name": "stdout",
     "output_type": "stream",
     "text": [
      "Aktuelle Zeit: Tue, 10 Sep 2024 13:18:49\n"
     ]
    }
   ],
   "execution_count": 4
  },
  {
   "cell_type": "markdown",
   "metadata": {},
   "source": [
    "Auch Verzögerungen im Programmablauf werden über dieses Modul mit der Funktion sleep() gesteuert:"
   ]
  },
  {
   "cell_type": "code",
   "metadata": {
    "ExecuteTime": {
     "end_time": "2024-09-10T11:19:45.985532Z",
     "start_time": "2024-09-10T11:19:43.475707Z"
    }
   },
   "source": [
    "print(\"Das erscheint sofort.\")\n",
    "time.sleep(2.5)\n",
    "print(\"Dieser Druck dauert 2.5 Sekunden.\")"
   ],
   "outputs": [
    {
     "name": "stdout",
     "output_type": "stream",
     "text": [
      "Das erscheint sofort.\n",
      "Dieser Druck dauert 2.5 Sekunden.\n"
     ]
    }
   ],
   "execution_count": 5
  },
  {
   "metadata": {},
   "cell_type": "markdown",
   "source": ""
  }
 ],
 "metadata": {
  "kernelspec": {
   "display_name": "Python 3",
   "language": "python",
   "name": "python3"
  },
  "language_info": {
   "codemirror_mode": {
    "name": "ipython",
    "version": 3
   },
   "file_extension": ".py",
   "mimetype": "text/x-python",
   "name": "python",
   "nbconvert_exporter": "python",
   "pygments_lexer": "ipython3",
   "version": "3.7.3"
  }
 },
 "nbformat": 4,
 "nbformat_minor": 2
}
