{
 "cells": [
  {
   "cell_type": "markdown",
   "metadata": {},
   "source": [
    "# Beispiel für Variablen in Python\n",
    "Im Folgenden sind Beispiele für das Deklarieren und Initialisieren verschiedener Variablen dargestellt."
   ]
  },
  {
   "cell_type": "code",
   "execution_count": null,
   "metadata": {},
   "outputs": [],
   "source": [
    "# Dieses Beispiel veranschaulicht das Deklarieren und Initialisieren\n",
    "# von Variablen\n",
    "# Autor: M. Strube\n",
    "# Erstellt: 07.10.2019\n",
    "# Zuletzt geändert: 07.10.2019\n",
    "\n",
    "# Variable vom Typ int\n",
    "anzahl = 33\n",
    "\n",
    "# Variablen vom Typ float\n",
    "summe = 3.5\n",
    "ergebnis = 10.0   # auch wenn die Nachkommastelle mit 0 angegeben wird\n",
    "                  # wird dieser Variablen der Datentyp float zugewiesen\n",
    "    \n",
    "# Variable vom Typ str\n",
    "frage = \"Wie geht es?\"\n",
    "anwort = 'gut'"
   ]
  },
  {
   "cell_type": "markdown",
   "metadata": {},
   "source": []
  }
 ],
 "metadata": {
  "kernelspec": {
   "display_name": "Python 3",
   "language": "python",
   "name": "python3"
  },
  "language_info": {
   "codemirror_mode": {
    "name": "ipython",
    "version": 3
   },
   "file_extension": ".py",
   "mimetype": "text/x-python",
   "name": "python",
   "nbconvert_exporter": "python",
   "pygments_lexer": "ipython3",
   "version": "3.7.3"
  }
 },
 "nbformat": 4,
 "nbformat_minor": 2
}
