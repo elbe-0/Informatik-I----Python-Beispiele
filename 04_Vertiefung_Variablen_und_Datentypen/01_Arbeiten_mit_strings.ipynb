{
 "cells": [
  {
   "cell_type": "markdown",
   "metadata": {},
   "source": [
    "### In diesem Jupyter Notebook dreht sich alles um das Arbeiten mit strings"
   ]
  },
  {
   "cell_type": "markdown",
   "metadata": {},
   "source": [
    "Zwei Variablen vom Typ string lassen sich mithilfe des Operators + verketten."
   ]
  },
  {
   "cell_type": "code",
   "execution_count": null,
   "metadata": {},
   "outputs": [],
   "source": [
    "text1 = \"Haus\"\n",
    "text2 = \"Tier\"\n",
    "neuer_text = text1 + text2\n",
    "print(neuer_text)"
   ]
  },
  {
   "cell_type": "markdown",
   "metadata": {},
   "source": [
    "Vor der Verkettung von Variablen unterschiedlicher Datentypen zu einem string ist explizite Typumwandlung notwendig."
   ]
  },
  {
   "cell_type": "code",
   "execution_count": null,
   "metadata": {},
   "outputs": [],
   "source": [
    "adresse = \"Bahnhofstraße \"\n",
    "hausnummer = 41\n",
    "adresse = adresse + str(hausnummer)\n",
    "print(adresse)"
   ]
  },
  {
   "cell_type": "markdown",
   "metadata": {},
   "source": [
    "Ermitteln der Anzahl von Zeichen in einem String."
   ]
  },
  {
   "cell_type": "code",
   "execution_count": null,
   "metadata": {},
   "outputs": [],
   "source": [
    "mein_text = \"Hallo Welt!\"\n",
    "print(\"Die Variable meinText enthält \",len(mein_text),\" Zeichen.\")"
   ]
  },
  {
   "cell_type": "markdown",
   "metadata": {},
   "source": [
    "Zugriff auf einzelne Elemente eines Strings"
   ]
  },
  {
   "cell_type": "code",
   "execution_count": null,
   "metadata": {},
   "outputs": [],
   "source": [
    "iban= \"DE12451000002055809250\"\n",
    "länge= len(iban)\n",
    "print(\"Der String enthält \",länge, \" Zeichen\")\n",
    "print(iban[0],\"ist das 1. Zeichen des Strings, welches an der Stelle 0 steht\")\n",
    "print(iban[länge-1], \" ist das letzte Zeichen des Strings, welches an der Stelle\", länge-1, \" steht\")"
   ]
  },
  {
   "cell_type": "markdown",
   "metadata": {},
   "source": [
    "Zugriff auf mehrere Elemente eines Strings."
   ]
  },
  {
   "cell_type": "code",
   "execution_count": null,
   "metadata": {},
   "outputs": [],
   "source": [
    "iban= \"DE12451000002055809250\"\n",
    "print(iban[0:12]) #Index von (einschließlich) bis (ausschließlich) \n",
    "print(iban[12:len(iban)])"
   ]
  },
  {
   "cell_type": "code",
   "execution_count": null,
   "metadata": {},
   "outputs": [],
   "source": [
    "iban= \"DE12451000002055809250\"\n",
    "print(iban[0:12:2]) #Index von (einschließlich) bis (ausschließlich), davon jedes 2. Zeichen \n"
   ]
  },
  {
   "cell_type": "markdown",
   "metadata": {},
   "source": [
    "Durchsuchen eines Strings."
   ]
  },
  {
   "cell_type": "code",
   "execution_count": null,
   "metadata": {},
   "outputs": [],
   "source": [
    "mein_text = \"Ich fahre gern Auto\"\n",
    "mein_text.find(\"Auto\")"
   ]
  },
  {
   "cell_type": "code",
   "execution_count": null,
   "metadata": {},
   "outputs": [],
   "source": [
    "mein_text = \"Das wäre schön\"\n",
    "mein_neuer_text=mein_text.replace(\"ä\",\"ae\")\n",
    "print(mein_text)\n",
    "print(mein_neuer_text)"
   ]
  },
  {
   "cell_type": "markdown",
   "metadata": {},
   "source": [
    "#### Aufgabe 1:\n",
    "Im folgenden Beispiel ist bereits eine Variable vom Typ string vorhanden. Schreiben Sie ein Programm, welches aus diesem String die richtige Reihenfolge der Zeichen des bekannten Markennamens herstellt. Achten Sie dabei darauf, das ß durch ss zu ersetzen."
   ]
  },
  {
   "cell_type": "code",
   "execution_count": null,
   "metadata": {},
   "outputs": [],
   "source": [
    "name = \"Strauß, & Co., Levi\""
   ]
  }
 ],
 "metadata": {
  "kernelspec": {
   "display_name": "Python 3",
   "language": "python",
   "name": "python3"
  },
  "language_info": {
   "codemirror_mode": {
    "name": "ipython",
    "version": 3
   },
   "file_extension": ".py",
   "mimetype": "text/x-python",
   "name": "python",
   "nbconvert_exporter": "python",
   "pygments_lexer": "ipython3",
   "version": "3.7.3"
  }
 },
 "nbformat": 4,
 "nbformat_minor": 2
}
