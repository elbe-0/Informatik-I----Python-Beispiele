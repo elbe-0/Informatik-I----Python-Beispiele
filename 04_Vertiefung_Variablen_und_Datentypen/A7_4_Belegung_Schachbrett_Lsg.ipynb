{
 "cells": [
  {
   "cell_type": "markdown",
   "metadata": {},
   "source": [
    "### Aufgabe 7_4\n",
    "Schreiben Sie ein Programm, welches dem Anwender das Platzieren von beliebigen Schachbrettfiguren auf einem Schachbrett (8x8 Felder) ermöglicht. Gestalten Sie ihr Programm so, dass der Anwender beliebig viele Schachbrettfiguren nacheinander auf diesem Schachbrett platzieren kann.\n",
    "Geben Sie die Belegung des Schachbretts nach jedem Durchlauf aus."
   ]
  },
  {
   "cell_type": "code",
   "execution_count": null,
   "metadata": {},
   "outputs": [],
   "source": [
    "from IPython.display import clear_output # notwendig, um die print-Ausgabe zu löschen\n",
    "\n",
    "wiederholen = True\n",
    "schachbrett = [[0 for col in range(8)] for row in range(8)]\n",
    "while wiederholen:\n",
    "    # Bildschirmausgabe löschen\n",
    "    clear_output()\n",
    "    \n",
    "    # Setzen einer Figur\n",
    "    figur = input(\"\\nGeben Sie bitte an, welche Figur Sie platzieren möchten:\\nk für König, \\nd für Dame, \\nb für Bauer, \\nt für Turm, \\nl für Läufer, \\np für Pferd\\n\")\n",
    "    farbe = input(\"\\nWelche Farbe hat diese Figur? \\nw für weiß \\ns für Schwarz:\\n\")\n",
    "    zeile = int(input(\"\\nGeben Sie bitte die Zeile an, in der Sie die Figur positionieren möchten: \"))\n",
    "    spalte = int(input(\"\\nGeben Sie bitte die Spalte an, in der Sie die Figur positionieren möchten: \")) \n",
    "    figur = figur + farbe\n",
    "    schachbrett[zeile-1][spalte-1] = figur\n",
    "    \n",
    "    # Abfragen ob noch eine Figur gesetzt werden soll\n",
    "    eingabe = input(\"\\nDrücken Sie bitte j wenn Sie noch eine Figur setzen möchten und n, wenn Sie fertig sind.\")\n",
    "    if(eingabe == \"n\"):\n",
    "        wiederholen = False\n",
    "    \n",
    "   \n",
    "  # aktuelle Belegung des Schachbretts ausgeben:\n",
    "    print(\"\\n\\n aktuelle Belegung des Schachbretts\")\n",
    "    for row in schachbrett:              # 1. Schleife durchläuft Reihe\n",
    "        for elem in row:                 # 2. Schleife durchläuft Elemente einer Reihe\n",
    "            print(elem, end=' ')         # Graphische Ausgabe des jeweiligen Elements\n",
    "        print()"
   ]
  }
 ],
 "metadata": {
  "kernelspec": {
   "display_name": "Python 3",
   "language": "python",
   "name": "python3"
  },
  "language_info": {
   "codemirror_mode": {
    "name": "ipython",
    "version": 3
   },
   "file_extension": ".py",
   "mimetype": "text/x-python",
   "name": "python",
   "nbconvert_exporter": "python",
   "pygments_lexer": "ipython3",
   "version": "3.7.3"
  }
 },
 "nbformat": 4,
 "nbformat_minor": 2
}
