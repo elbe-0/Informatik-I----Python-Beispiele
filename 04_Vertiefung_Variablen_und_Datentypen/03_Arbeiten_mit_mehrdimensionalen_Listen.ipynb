{
 "cells": [
  {
   "cell_type": "markdown",
   "metadata": {},
   "source": [
    "# Arbeiten mit mehrdimensionale Listen\n",
    "In Python kann lassen sich auch mehrdimensionale Listen erzeugen, indem einer Variablen ähnlich wie bei eindimensionalen Listen kommaseparierte Wertepaarungen zugewiesen werden. Das Ergebnis ist dann eine „Matrix“. "
   ]
  },
  {
   "cell_type": "markdown",
   "metadata": {},
   "source": [
    "### Initialisierung einer 3x3 Liste "
   ]
  },
  {
   "cell_type": "code",
   "execution_count": null,
   "metadata": {},
   "outputs": [],
   "source": [
    "matrix = [[1,2,3], [4,5,6], [7,8,9]]"
   ]
  },
  {
   "cell_type": "markdown",
   "metadata": {},
   "source": [
    "Der Zugriff auf ein Element einer mehrdimensionalen Liste erfolgt über den Index [Zeile][Spalte]. Dabei beginnt die Indizierung bei 0."
   ]
  },
  {
   "cell_type": "code",
   "execution_count": null,
   "metadata": {},
   "outputs": [],
   "source": [
    "# Beispiel für den Zugriff auf das Element der \n",
    "# 2. Zeile und 1. Spalte der Liste\n",
    "print(matrix[1][0])"
   ]
  },
  {
   "cell_type": "markdown",
   "metadata": {},
   "source": [
    "Das Ausgeben aller Elemente einer mehrdimensionalen Liste erfolgt z.B. über zwei ineinander geschachtelte for-Schleifen."
   ]
  },
  {
   "cell_type": "code",
   "execution_count": null,
   "metadata": {},
   "outputs": [],
   "source": [
    "matrix = [[1,2,3], [4,5,6], [7,8,9]] # Initialisierung einer 3x3 Matrix\n",
    "for i in range(len(matrix)):         # 1. Schleife durchläuft die Zeilennummer\n",
    "    for j in range(len(matrix[i])):  # 2. Schleife durchläuft die Spaltennummer\n",
    "        print(matrix[i][j], end=' ') # Graphische Ausgabe des jeweiligen Wertes\n",
    "    print()                          # Graphische Asgabe einer neuen Zeile"
   ]
  },
  {
   "cell_type": "markdown",
   "metadata": {},
   "source": [
    "Das Ausgeben aller Elemente einer mehrdimensionalen Liste erfolgt z.B. über zwei ineinander geschachtelte for-Schleifen."
   ]
  },
  {
   "cell_type": "code",
   "execution_count": null,
   "metadata": {
    "scrolled": true
   },
   "outputs": [],
   "source": [
    "matrix = [[1,2,3], [4,5,6], [7,8,9]] # Initialisierung einer 3x3 Matrix\n",
    "for row in matrix:                   # 1. Schleife durchläuft Reihe\n",
    "    for elem in row:                 # 2. Schleife durchläuft Elemente einer Reihe\n",
    "        print(elem, end=' ')         # Graphische Ausgabe des jeweiligen Elements\n",
    "    print()                          # Graphische Ausgabe einer neuen Zeile"
   ]
  },
  {
   "cell_type": "markdown",
   "metadata": {},
   "source": [
    "Code für die Eingabe einer beliebig „großen“ mehrdimensionalen Liste."
   ]
  },
  {
   "cell_type": "code",
   "execution_count": null,
   "metadata": {},
   "outputs": [],
   "source": [
    "zeilen = int(input(\"Bitte Anzahl der Zeilen eingeben:\"))  # Initialisierung einer Ganzzahlvariable und dessen Eingabe \n",
    "matrix = []                                               # Initialisierung eines leeren Feldes\n",
    "for i in range(zeilen):                                   # Schleife durchläuft von 0 bis zeilen-1\n",
    "    print(\"Bitte Werte für die\", i, \"Zeile eingeben:\")    # Graphische Ausgabe in Welcher Zeile sich die Schleife befindet\n",
    "    matrix.append([int(j) for j in input().split()])      # Aufruf einer Methode um die Werte einzugeben & hinzu zufügen\n",
    "print()                                                   # Graphische Ausgabe einer neuen Zeile\n",
    "print(\"Ihre Eingabe:\")                                    # Graphische Ausgabe Text\n",
    "    \n",
    "for row in matrix:                                        # 1. Schleife durchläuft Reihe\n",
    "    for elem in row:                                      # 2. Schleife durchläuft Elemente einer Reihe\n",
    "        print(elem, end=' ')                              # Graphische Ausgabe des jeweiligen Elements\n",
    "    print()                                               # Graphische Ausgabe einer neuen Zeile"
   ]
  },
  {
   "cell_type": "markdown",
   "metadata": {},
   "source": [
    "### Aufgabe 7_4\n",
    "Schreiben Sie ein Programm, welches dem Anwender das Platzieren von beliebigen Schachbrettfiguren auf einem Schachbrett (8x8 Felder) ermöglicht. Gestalten Sie ihr Programm so, dass der Anwender beliebig viele Schachbrettfiguren nacheinander auf diesem Schachbrett platzieren kann.\n",
    "Geben Sie die Belegung des Schachbretts nach jedem Durchlauf aus."
   ]
  },
  {
   "cell_type": "code",
   "execution_count": null,
   "metadata": {},
   "outputs": [],
   "source": []
  },
  {
   "cell_type": "markdown",
   "metadata": {},
   "source": [
    "### Aufgabe 7_5\n",
    "Erweitern Sie Ihr vorheriges Programm um eine Suchmöglichkeit, die ermittelt an welcher Stelle der \"weiße König\" steht."
   ]
  },
  {
   "cell_type": "code",
   "execution_count": null,
   "metadata": {},
   "outputs": [],
   "source": []
  },
  {
   "cell_type": "markdown",
   "metadata": {},
   "source": [
    "### Aufgabe 7_6\n",
    "Erweitern Sie Ihr vorheriges Programm um eine Funktionalität, die das Verschieben des \"weißen Königs\" auf ein anderes Feld des Schachbretts ermöglicht. "
   ]
  },
  {
   "cell_type": "code",
   "execution_count": null,
   "metadata": {},
   "outputs": [],
   "source": []
  }
 ],
 "metadata": {
  "kernelspec": {
   "display_name": "Python 3",
   "language": "python",
   "name": "python3"
  },
  "language_info": {
   "codemirror_mode": {
    "name": "ipython",
    "version": 3
   },
   "file_extension": ".py",
   "mimetype": "text/x-python",
   "name": "python",
   "nbconvert_exporter": "python",
   "pygments_lexer": "ipython3",
   "version": "3.7.3"
  }
 },
 "nbformat": 4,
 "nbformat_minor": 2
}
