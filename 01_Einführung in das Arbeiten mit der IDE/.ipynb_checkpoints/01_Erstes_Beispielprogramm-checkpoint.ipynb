{
 "cells": [
  {
   "cell_type": "markdown",
   "metadata": {},
   "source": [
    "# Erstes Beispielprogramm\n",
    "Der folgenden Codeblock enthält ein erstes Programmbeispiel. Er demonstriert den Aufbau eines einfachen Programms und nutzt Befehle für Eingabe und Ausgabe:"
   ]
  },
  {
   "cell_type": "code",
   "execution_count": null,
   "metadata": {},
   "outputs": [],
   "source": [
    "# Im Kopf des Programms stehen in der Regel folgende Informationen\n",
    "# 1. Was ist die Aufgabe des Programms\n",
    "# 2. Wer ist der Autor des Programms\n",
    "# 3. Wann wurde das Programm geschrieben, wann zuletzt geändert\n",
    "#\n",
    "# Dies ist das erste Beispielprogramm zur Demonstration des Ablaufs\n",
    "# Autor: U. Triltsch\n",
    "# Erstellt: 19.08.2019\n",
    "# Zuletzt geändert: 19.08.2019\n",
    "\n",
    "# Eine Ausgabe auf der Konsole \n",
    "print(\"Hallo Welt!\\n\")\n",
    "\n",
    "# Individuelle Begrüßung\n",
    "vorname = input(\"Bitte geben Sie Ihren Vornamen ein:\")    # Eingabe\n",
    "nachname = input(\"Bitte geben Sie Ihren Nachnamen ein:\")\n",
    "\n",
    "gruss = \"Hallo \" + vorname + \" \" + nachname + \"!\"         # Verarbeitung\n",
    " \n",
    "print(gruss)                                              # Ausgabe"
   ]
  },
  {
   "cell_type": "markdown",
   "metadata": {},
   "source": [
    "## Prozedurale und funktionale Programierung\n",
    "Das oberer Beispiel zeigt eine rein prozedurale Programmierung. Wir können aber auch Programmteile in Funktionen auslagern, was zur funktionalen Programmierung führt:"
   ]
  },
  {
   "cell_type": "code",
   "execution_count": null,
   "metadata": {},
   "outputs": [],
   "source": [
    "#Funktion begruessung\n",
    "def begruessung (a, b):\n",
    "  text = 'Hallo ' + a + ' ' + b + '!'\n",
    "  return text"
   ]
  },
  {
   "cell_type": "markdown",
   "metadata": {},
   "source": [
    "Die so definierte Funktion kann jetzt in unsere Programm benutzt werden:"
   ]
  },
  {
   "cell_type": "code",
   "execution_count": null,
   "metadata": {},
   "outputs": [],
   "source": [
    "#Programmbeginn\n",
    "vorname = input(\"Bitte geben Sie Ihren Vornamen ein:\")   # Anweisung 1\n",
    "nachname = input(\"Bitte geben Sie Ihren Nachnamen ein:\") # Anweisung 2\n",
    "ergebnis = begruessung (vorname, nachname)               # Anweisung 3 --> ruft oben definierte Funktion auf\n",
    "#…\n",
    "print (ergebnis)                                         # Anweisung n\n",
    "#Programmenende\n"
   ]
  }
 ],
 "metadata": {
  "kernelspec": {
   "display_name": "Python 3",
   "language": "python",
   "name": "python3"
  },
  "language_info": {
   "codemirror_mode": {
    "name": "ipython",
    "version": 3
   },
   "file_extension": ".py",
   "mimetype": "text/x-python",
   "name": "python",
   "nbconvert_exporter": "python",
   "pygments_lexer": "ipython3",
   "version": "3.7.3"
  }
 },
 "nbformat": 4,
 "nbformat_minor": 2
}
