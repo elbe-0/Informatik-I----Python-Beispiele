{
 "cells": [
  {
   "cell_type": "markdown",
   "metadata": {},
   "source": [
    "# Demonstration von Steuerzeichen\n",
    "\n",
    "Steuerzeichen machen eine direkte Beeinflussung der Ausgabe möglich.\n",
    "Ein wichtiges Mittel, um Texte zu Gliedern sind Absätze und Zeilenumbrüche.\n",
    "Bei der schon kennengelernten print()-Funktion wird ohne weiteres Zutun immer ein Zeilenumbruche erzeugt:"
   ]
  },
  {
   "cell_type": "code",
   "execution_count": 2,
   "metadata": {},
   "outputs": [
    {
     "name": "stdout",
     "output_type": "stream",
     "text": [
      "Willkommen bei der Python Programmierung!\n",
      "Ich stehe auch so in der nächsten Zeile!\n"
     ]
    }
   ],
   "source": [
    "print(\"Willkommen bei der Python Programmierung!\")\n",
    "print(\"Ich stehe auch so in der nächsten Zeile!\")"
   ]
  },
  {
   "cell_type": "markdown",
   "metadata": {},
   "source": [
    "Bei der Input Funktion ist dies nicht der Fall:"
   ]
  },
  {
   "cell_type": "code",
   "execution_count": 1,
   "metadata": {},
   "outputs": [
    {
     "name": "stdout",
     "output_type": "stream",
     "text": [
      "Bitte geben Sie Ihren Vornamen ein:Max\n",
      "Willkommen Max!\n"
     ]
    }
   ],
   "source": [
    "vorname = input(\"Bitte geben Sie Ihren Vornamen ein:\")\n",
    "print(\"Willkommen \" + vorname + \"!\")"
   ]
  },
  {
   "cell_type": "markdown",
   "metadata": {},
   "source": [
    "Das Steuerzeichen \"\\n\" fügt aber einen Zeilenumbruch genau an der Stelle ein, an der es in einen Zeichenkette eingesetzt wird:"
   ]
  },
  {
   "cell_type": "code",
   "execution_count": 3,
   "metadata": {},
   "outputs": [
    {
     "name": "stdout",
     "output_type": "stream",
     "text": [
      "Bitte geben Sie Ihren Vornamen ein:\n",
      "Max\n",
      "Willkommen Max!\n"
     ]
    }
   ],
   "source": [
    "vorname = input(\"Bitte geben Sie Ihren Vornamen ein:\\n\")\n",
    "print(\"Willkommen \" + vorname + \"!\")"
   ]
  },
  {
   "cell_type": "markdown",
   "metadata": {},
   "source": [
    "Will ich verhindern, dass bei der print()-Funktion ein Zeilenumbruch erzeugt wird, kann ich das durch einen zusätzlichen \"Schalter\" als Parameter beeinflussen. Der Aufruf wird dann mit einem end=\"\" ergänzt, damit kein Umbruch erfolgt:"
   ]
  },
  {
   "cell_type": "code",
   "execution_count": 4,
   "metadata": {},
   "outputs": [
    {
     "name": "stdout",
     "output_type": "stream",
     "text": [
      "Willkommen bei der Python Programmierung!Ich stehe jetzt nicht mehr in der nächsten Zeile!\n"
     ]
    }
   ],
   "source": [
    "print(\"Willkommen bei der Python Programmierung!\", end=\"\")\n",
    "print(\"Ich stehe jetzt nicht mehr in der nächsten Zeile!\")"
   ]
  },
  {
   "cell_type": "markdown",
   "metadata": {},
   "source": [
    "## weitere Steuerzeichen\n",
    "Wie im Folienskript bereits erwähnt, gibt es auch noch weitere Steuerzeichen, die für manche Ausgaben sinnvoll sind."
   ]
  },
  {
   "cell_type": "code",
   "execution_count": 7,
   "metadata": {},
   "outputs": [
    {
     "name": "stdout",
     "output_type": "stream",
     "text": [
      "Ein Rückschritt macht aus *\\b# nur *\b#\n"
     ]
    }
   ],
   "source": [
    "print (\"Ein Rückschritt macht aus *\\\\b# nur *\\b#\")"
   ]
  },
  {
   "cell_type": "code",
   "execution_count": 6,
   "metadata": {},
   "outputs": [
    {
     "name": "stdout",
     "output_type": "stream",
     "text": [
      "Ein Wagenrücklauf mit\\r überschreibt der Anfang. \r",
      "Es wird aber kein Zeilenumbruch erzeugt.\n"
     ]
    }
   ],
   "source": [
    "print (\"Ein Wagenrücklauf mit\\\\r überschreibt der Anfang. \\rEs wird aber kein Zeilenumbruch erzeugt.\")"
   ]
  },
  {
   "cell_type": "markdown",
   "metadata": {},
   "source": [
    "sinvoll eingesetzt zum Beispiel für Zähler oder Fortschrittsanzeigen:"
   ]
  },
  {
   "cell_type": "code",
   "execution_count": 2,
   "metadata": {},
   "outputs": [
    {
     "name": "stdout",
     "output_type": "stream",
     "text": [
      "99\r"
     ]
    }
   ],
   "source": [
    "import time               # erlaubt uns Zugriff auf weitere Funktionen, hier time.sleep()\n",
    "\n",
    "i = 0\n",
    "while i < 100:            # sorgt dafür, dass alles, was unter dieser Zeile eingerückt wurde 100x wiederholt wird.\n",
    "    print(i, end='\\r')\n",
    "    i += 1                # i wird immer um Eins erhöht.\n",
    "    time.sleep(0.3)"
   ]
  },
  {
   "cell_type": "markdown",
   "metadata": {},
   "source": [
    "Eine Sammlung verschiedener Steuerzeichen:"
   ]
  },
  {
   "cell_type": "code",
   "execution_count": 1,
   "metadata": {},
   "outputs": [
    {
     "name": "stdout",
     "output_type": "stream",
     "text": [
      "Ein Backspace mit: (\\b) |\bx\n",
      "Ein Tabulator mit: (\\t) |\tx\n",
      "\tPython\n",
      "\ti\n",
      "\ts\n",
      "\tt\n",
      "\ttoll\n",
      "\n",
      "\t u\n",
      "\t n\n",
      "\t d\n",
      "\n",
      "\t\tmacht Spaß!\n"
     ]
    }
   ],
   "source": [
    "print(\"Ein Backspace mit: (\\\\b) |\\bx\")\n",
    "print(\"Ein Tabulator mit: (\\\\t) |\\tx\")\n",
    "print(\"\\tPython\\n\\ti\\n\\ts\\n\\tt\\n\\ttoll\\n\")\n",
    "print(\"\\t u\\n\\t n\\n\\t d\\n\")\n",
    "print(\"\\t\\tmacht Spaß!\")"
   ]
  },
  {
   "cell_type": "code",
   "execution_count": null,
   "metadata": {},
   "outputs": [],
   "source": []
  }
 ],
 "metadata": {
  "kernelspec": {
   "display_name": "Python 3",
   "language": "python",
   "name": "python3"
  },
  "language_info": {
   "codemirror_mode": {
    "name": "ipython",
    "version": 3
   },
   "file_extension": ".py",
   "mimetype": "text/x-python",
   "name": "python",
   "nbconvert_exporter": "python",
   "pygments_lexer": "ipython3",
   "version": "3.7.3"
  }
 },
 "nbformat": 4,
 "nbformat_minor": 2
}
